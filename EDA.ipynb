{
  "nbformat": 4,
  "nbformat_minor": 0,
  "metadata": {
    "colab": {
      "name": "EDA.ipynb",
      "provenance": [],
      "mount_file_id": "198FC4JOXv_3nqPkqvX8THXEI84hdhQEO",
      "authorship_tag": "ABX9TyNkTmb3yMnSJK2lsB87Uhct",
      "include_colab_link": true
    },
    "kernelspec": {
      "name": "python3",
      "display_name": "Python 3"
    },
    "language_info": {
      "name": "python"
    }
  },
  "cells": [
    {
      "cell_type": "markdown",
      "metadata": {
        "id": "view-in-github",
        "colab_type": "text"
      },
      "source": [
        "<a href=\"https://colab.research.google.com/github/sagarbhushanjha/testrepo/blob/main/EDA.ipynb\" target=\"_parent\"><img src=\"https://colab.research.google.com/assets/colab-badge.svg\" alt=\"Open In Colab\"/></a>"
      ]
    },
    {
      "cell_type": "code",
      "metadata": {
        "id": "MLyTil0kqlcl"
      },
      "source": [
        "\n",
        "import pandas as pd\n",
        "import datetime"
      ],
      "execution_count": null,
      "outputs": []
    },
    {
      "cell_type": "code",
      "metadata": {
        "id": "6sczF1RMqo9u"
      },
      "source": [
        "import pandas as pd\n",
        "import datetime"
      ],
      "execution_count": 2,
      "outputs": []
    },
    {
      "cell_type": "code",
      "metadata": {
        "colab": {
          "base_uri": "https://localhost:8080/",
          "height": 206
        },
        "id": "S8LjC3KarjVv",
        "outputId": "ca8af87f-b632-4bb8-b999-ec612ec06f4f"
      },
      "source": [
        "df_apl_tw = pd.read_csv('/content/drive/MyDrive/twitter_apple.csv')\n",
        "df_apl_fin = pd.read_csv('/content/drive/MyDrive/fin_apple.csv')\n",
        "\n",
        "df_apl_tw.head()"
      ],
      "execution_count": 3,
      "outputs": [
        {
          "output_type": "execute_result",
          "data": {
            "text/html": [
              "<div>\n",
              "<style scoped>\n",
              "    .dataframe tbody tr th:only-of-type {\n",
              "        vertical-align: middle;\n",
              "    }\n",
              "\n",
              "    .dataframe tbody tr th {\n",
              "        vertical-align: top;\n",
              "    }\n",
              "\n",
              "    .dataframe thead th {\n",
              "        text-align: right;\n",
              "    }\n",
              "</style>\n",
              "<table border=\"1\" class=\"dataframe\">\n",
              "  <thead>\n",
              "    <tr style=\"text-align: right;\">\n",
              "      <th></th>\n",
              "      <th>Datetime</th>\n",
              "      <th>Text</th>\n",
              "    </tr>\n",
              "  </thead>\n",
              "  <tbody>\n",
              "    <tr>\n",
              "      <th>0</th>\n",
              "      <td>2020-06-29 22:56:32+00:00</td>\n",
              "      <td>#GBPAUD 145 PIPS Profit🔥🔥\\n\\nFor free signals,...</td>\n",
              "    </tr>\n",
              "    <tr>\n",
              "      <th>1</th>\n",
              "      <td>2020-06-29 22:20:05+00:00</td>\n",
              "      <td>APPLE ANALYSIS 15 MIN                   (BUY S...</td>\n",
              "    </tr>\n",
              "    <tr>\n",
              "      <th>2</th>\n",
              "      <td>2020-06-29 21:35:23+00:00</td>\n",
              "      <td>EURNZD TP2 Hit! 180 PIPS PROFIT 🔥👍🏻⚡️\\n\\nFor F...</td>\n",
              "    </tr>\n",
              "    <tr>\n",
              "      <th>3</th>\n",
              "      <td>2020-06-29 21:17:03+00:00</td>\n",
              "      <td>Apple Inc price at close, 2020-06-29, is 361.7...</td>\n",
              "    </tr>\n",
              "    <tr>\n",
              "      <th>4</th>\n",
              "      <td>2020-06-29 20:40:54+00:00</td>\n",
              "      <td>#NZDCAD Target Hit! 90 PIPS Profit 🔥\\n\\nChecko...</td>\n",
              "    </tr>\n",
              "  </tbody>\n",
              "</table>\n",
              "</div>"
            ],
            "text/plain": [
              "                    Datetime                                               Text\n",
              "0  2020-06-29 22:56:32+00:00  #GBPAUD 145 PIPS Profit🔥🔥\\n\\nFor free signals,...\n",
              "1  2020-06-29 22:20:05+00:00  APPLE ANALYSIS 15 MIN                   (BUY S...\n",
              "2  2020-06-29 21:35:23+00:00  EURNZD TP2 Hit! 180 PIPS PROFIT 🔥👍🏻⚡️\\n\\nFor F...\n",
              "3  2020-06-29 21:17:03+00:00  Apple Inc price at close, 2020-06-29, is 361.7...\n",
              "4  2020-06-29 20:40:54+00:00  #NZDCAD Target Hit! 90 PIPS Profit 🔥\\n\\nChecko..."
            ]
          },
          "metadata": {},
          "execution_count": 3
        }
      ]
    },
    {
      "cell_type": "code",
      "metadata": {
        "colab": {
          "base_uri": "https://localhost:8080/",
          "height": 206
        },
        "id": "2_ROVR3JryTu",
        "outputId": "26716fd4-aae0-47fc-a74c-55d0a76869eb"
      },
      "source": [
        "\n",
        "df_apl_fin.tail()"
      ],
      "execution_count": 4,
      "outputs": [
        {
          "output_type": "execute_result",
          "data": {
            "text/html": [
              "<div>\n",
              "<style scoped>\n",
              "    .dataframe tbody tr th:only-of-type {\n",
              "        vertical-align: middle;\n",
              "    }\n",
              "\n",
              "    .dataframe tbody tr th {\n",
              "        vertical-align: top;\n",
              "    }\n",
              "\n",
              "    .dataframe thead th {\n",
              "        text-align: right;\n",
              "    }\n",
              "</style>\n",
              "<table border=\"1\" class=\"dataframe\">\n",
              "  <thead>\n",
              "    <tr style=\"text-align: right;\">\n",
              "      <th></th>\n",
              "      <th>Date</th>\n",
              "      <th>Close/Last</th>\n",
              "      <th>Volume</th>\n",
              "      <th>Open</th>\n",
              "      <th>High</th>\n",
              "      <th>Low</th>\n",
              "    </tr>\n",
              "  </thead>\n",
              "  <tbody>\n",
              "    <tr>\n",
              "      <th>429</th>\n",
              "      <td>01-08-2020</td>\n",
              "      <td>$75.7975</td>\n",
              "      <td>132363800</td>\n",
              "      <td>$74.29</td>\n",
              "      <td>$76.11</td>\n",
              "      <td>$74.289</td>\n",
              "    </tr>\n",
              "    <tr>\n",
              "      <th>430</th>\n",
              "      <td>01-07-2020</td>\n",
              "      <td>$74.5975</td>\n",
              "      <td>111510640</td>\n",
              "      <td>$74.96</td>\n",
              "      <td>$75.225</td>\n",
              "      <td>$74.37</td>\n",
              "    </tr>\n",
              "    <tr>\n",
              "      <th>431</th>\n",
              "      <td>01-06-2020</td>\n",
              "      <td>$74.95</td>\n",
              "      <td>118578560</td>\n",
              "      <td>$73.4475</td>\n",
              "      <td>$74.99</td>\n",
              "      <td>$73.1875</td>\n",
              "    </tr>\n",
              "    <tr>\n",
              "      <th>432</th>\n",
              "      <td>01-03-2020</td>\n",
              "      <td>$74.3575</td>\n",
              "      <td>146535520</td>\n",
              "      <td>$74.2875</td>\n",
              "      <td>$75.145</td>\n",
              "      <td>$74.125</td>\n",
              "    </tr>\n",
              "    <tr>\n",
              "      <th>433</th>\n",
              "      <td>01-02-2020</td>\n",
              "      <td>$75.0875</td>\n",
              "      <td>135647440</td>\n",
              "      <td>$74.06</td>\n",
              "      <td>$75.15</td>\n",
              "      <td>$73.7975</td>\n",
              "    </tr>\n",
              "  </tbody>\n",
              "</table>\n",
              "</div>"
            ],
            "text/plain": [
              "           Date Close/Last     Volume      Open     High       Low\n",
              "429  01-08-2020   $75.7975  132363800    $74.29   $76.11   $74.289\n",
              "430  01-07-2020   $74.5975  111510640    $74.96  $75.225    $74.37\n",
              "431  01-06-2020     $74.95  118578560  $73.4475   $74.99  $73.1875\n",
              "432  01-03-2020   $74.3575  146535520  $74.2875  $75.145   $74.125\n",
              "433  01-02-2020   $75.0875  135647440    $74.06   $75.15  $73.7975"
            ]
          },
          "metadata": {},
          "execution_count": 4
        }
      ]
    },
    {
      "cell_type": "code",
      "metadata": {
        "colab": {
          "base_uri": "https://localhost:8080/",
          "height": 206
        },
        "id": "4S8KvIYdrz7_",
        "outputId": "b2239b76-7901-4d57-b50a-1cd151c2c274"
      },
      "source": [
        "df_msft_fin = pd.read_csv('/content/drive/MyDrive/fin_MSFT.csv')\n",
        "df_msft_tw = pd.read_csv('/content/drive/MyDrive/twitter_msft.csv')\n",
        "\n",
        "df_msft_fin.head()"
      ],
      "execution_count": 6,
      "outputs": [
        {
          "output_type": "execute_result",
          "data": {
            "text/html": [
              "<div>\n",
              "<style scoped>\n",
              "    .dataframe tbody tr th:only-of-type {\n",
              "        vertical-align: middle;\n",
              "    }\n",
              "\n",
              "    .dataframe tbody tr th {\n",
              "        vertical-align: top;\n",
              "    }\n",
              "\n",
              "    .dataframe thead th {\n",
              "        text-align: right;\n",
              "    }\n",
              "</style>\n",
              "<table border=\"1\" class=\"dataframe\">\n",
              "  <thead>\n",
              "    <tr style=\"text-align: right;\">\n",
              "      <th></th>\n",
              "      <th>Date</th>\n",
              "      <th>Close/Last</th>\n",
              "      <th>Volume</th>\n",
              "      <th>Open</th>\n",
              "      <th>High</th>\n",
              "      <th>Low</th>\n",
              "    </tr>\n",
              "  </thead>\n",
              "  <tbody>\n",
              "    <tr>\n",
              "      <th>0</th>\n",
              "      <td>09/21/2021</td>\n",
              "      <td>$294.8</td>\n",
              "      <td>22364100.0</td>\n",
              "      <td>$295.69</td>\n",
              "      <td>$297.54</td>\n",
              "      <td>$294.07</td>\n",
              "    </tr>\n",
              "    <tr>\n",
              "      <th>1</th>\n",
              "      <td>09/20/2021</td>\n",
              "      <td>$294.3</td>\n",
              "      <td>38278660.0</td>\n",
              "      <td>$296.33</td>\n",
              "      <td>$298.72</td>\n",
              "      <td>$289.52</td>\n",
              "    </tr>\n",
              "    <tr>\n",
              "      <th>2</th>\n",
              "      <td>09/17/2021</td>\n",
              "      <td>$299.87</td>\n",
              "      <td>41372460.0</td>\n",
              "      <td>$304.17</td>\n",
              "      <td>$304.5</td>\n",
              "      <td>$299.53</td>\n",
              "    </tr>\n",
              "    <tr>\n",
              "      <th>3</th>\n",
              "      <td>09/16/2021</td>\n",
              "      <td>$305.22</td>\n",
              "      <td>19550820.0</td>\n",
              "      <td>$303.76</td>\n",
              "      <td>$305.31</td>\n",
              "      <td>$300.76</td>\n",
              "    </tr>\n",
              "    <tr>\n",
              "      <th>4</th>\n",
              "      <td>09/15/2021</td>\n",
              "      <td>$304.82</td>\n",
              "      <td>28356300.0</td>\n",
              "      <td>$303.26</td>\n",
              "      <td>$305.32</td>\n",
              "      <td>$301.82</td>\n",
              "    </tr>\n",
              "  </tbody>\n",
              "</table>\n",
              "</div>"
            ],
            "text/plain": [
              "         Date Close/Last      Volume     Open     High      Low\n",
              "0  09/21/2021     $294.8  22364100.0  $295.69  $297.54  $294.07\n",
              "1  09/20/2021     $294.3  38278660.0  $296.33  $298.72  $289.52\n",
              "2  09/17/2021    $299.87  41372460.0  $304.17   $304.5  $299.53\n",
              "3  09/16/2021    $305.22  19550820.0  $303.76  $305.31  $300.76\n",
              "4  09/15/2021    $304.82  28356300.0  $303.26  $305.32  $301.82"
            ]
          },
          "metadata": {},
          "execution_count": 6
        }
      ]
    },
    {
      "cell_type": "code",
      "metadata": {
        "colab": {
          "base_uri": "https://localhost:8080/",
          "height": 206
        },
        "id": "KP-__iZxsDXV",
        "outputId": "25126ac4-45cd-4cb2-f017-254ce16a7df1"
      },
      "source": [
        "df_msft_tw.head()"
      ],
      "execution_count": 7,
      "outputs": [
        {
          "output_type": "execute_result",
          "data": {
            "text/html": [
              "<div>\n",
              "<style scoped>\n",
              "    .dataframe tbody tr th:only-of-type {\n",
              "        vertical-align: middle;\n",
              "    }\n",
              "\n",
              "    .dataframe tbody tr th {\n",
              "        vertical-align: top;\n",
              "    }\n",
              "\n",
              "    .dataframe thead th {\n",
              "        text-align: right;\n",
              "    }\n",
              "</style>\n",
              "<table border=\"1\" class=\"dataframe\">\n",
              "  <thead>\n",
              "    <tr style=\"text-align: right;\">\n",
              "      <th></th>\n",
              "      <th>Datetime</th>\n",
              "      <th>Text</th>\n",
              "    </tr>\n",
              "  </thead>\n",
              "  <tbody>\n",
              "    <tr>\n",
              "      <th>0</th>\n",
              "      <td>2020-05-31 23:06:34+00:00</td>\n",
              "      <td>MSFT Long our Short  - #MSFT chart https://t.c...</td>\n",
              "    </tr>\n",
              "    <tr>\n",
              "      <th>1</th>\n",
              "      <td>2020-05-31 20:15:47+00:00</td>\n",
              "      <td>ForexAnalytix Interview: The Case For Value Ov...</td>\n",
              "    </tr>\n",
              "    <tr>\n",
              "      <th>2</th>\n",
              "      <td>2020-05-31 19:32:52+00:00</td>\n",
              "      <td>Group 3 Stocks &amp;amp; ETF charts are updated in...</td>\n",
              "    </tr>\n",
              "    <tr>\n",
              "      <th>3</th>\n",
              "      <td>2020-05-31 19:27:36+00:00</td>\n",
              "      <td>_\\n\\nDon Mattrick \"left\" #MSFT for telling the...</td>\n",
              "    </tr>\n",
              "    <tr>\n",
              "      <th>4</th>\n",
              "      <td>2020-05-31 19:26:06+00:00</td>\n",
              "      <td>As the lockdown hasn't ended, protests are eru...</td>\n",
              "    </tr>\n",
              "  </tbody>\n",
              "</table>\n",
              "</div>"
            ],
            "text/plain": [
              "                    Datetime                                               Text\n",
              "0  2020-05-31 23:06:34+00:00  MSFT Long our Short  - #MSFT chart https://t.c...\n",
              "1  2020-05-31 20:15:47+00:00  ForexAnalytix Interview: The Case For Value Ov...\n",
              "2  2020-05-31 19:32:52+00:00  Group 3 Stocks &amp; ETF charts are updated in...\n",
              "3  2020-05-31 19:27:36+00:00  _\\n\\nDon Mattrick \"left\" #MSFT for telling the...\n",
              "4  2020-05-31 19:26:06+00:00  As the lockdown hasn't ended, protests are eru..."
            ]
          },
          "metadata": {},
          "execution_count": 7
        }
      ]
    },
    {
      "cell_type": "code",
      "metadata": {
        "colab": {
          "base_uri": "https://localhost:8080/"
        },
        "id": "a3KOQqmrsGzN",
        "outputId": "7c579cac-1069-453c-9163-276aca34eb73"
      },
      "source": [
        "\n",
        "datetime.datetime.max"
      ],
      "execution_count": 8,
      "outputs": [
        {
          "output_type": "execute_result",
          "data": {
            "text/plain": [
              "datetime.datetime(9999, 12, 31, 23, 59, 59, 999999)"
            ]
          },
          "metadata": {},
          "execution_count": 8
        }
      ]
    },
    {
      "cell_type": "code",
      "metadata": {
        "colab": {
          "base_uri": "https://localhost:8080/",
          "height": 206
        },
        "id": "BmgptSgEsLBW",
        "outputId": "ef9c8fee-e2e2-4a25-cb9f-de3d3069a9ad"
      },
      "source": [
        "\n",
        "df_nvda_tw = pd.read_csv('/content/drive/MyDrive/twitter_NVDA.csv')\n",
        "df_nvda_fin = pd.read_csv('/content/drive/MyDrive/fin_NVDA.csv')\n",
        "\n",
        "df_nvda_tw.head()"
      ],
      "execution_count": 9,
      "outputs": [
        {
          "output_type": "execute_result",
          "data": {
            "text/html": [
              "<div>\n",
              "<style scoped>\n",
              "    .dataframe tbody tr th:only-of-type {\n",
              "        vertical-align: middle;\n",
              "    }\n",
              "\n",
              "    .dataframe tbody tr th {\n",
              "        vertical-align: top;\n",
              "    }\n",
              "\n",
              "    .dataframe thead th {\n",
              "        text-align: right;\n",
              "    }\n",
              "</style>\n",
              "<table border=\"1\" class=\"dataframe\">\n",
              "  <thead>\n",
              "    <tr style=\"text-align: right;\">\n",
              "      <th></th>\n",
              "      <th>Datetime</th>\n",
              "      <th>Text</th>\n",
              "    </tr>\n",
              "  </thead>\n",
              "  <tbody>\n",
              "    <tr>\n",
              "      <th>0</th>\n",
              "      <td>2021-09-21 18:07:35+00:00</td>\n",
              "      <td>#StockNews #NVDA Are You looking For Hot Stock...</td>\n",
              "    </tr>\n",
              "    <tr>\n",
              "      <th>1</th>\n",
              "      <td>2021-09-21 14:42:45+00:00</td>\n",
              "      <td>-$61 in 60 minutes | Small Account Trade Log \\...</td>\n",
              "    </tr>\n",
              "    <tr>\n",
              "      <th>2</th>\n",
              "      <td>2021-09-21 12:25:19+00:00</td>\n",
              "      <td>Women did not get the vote by voting. They too...</td>\n",
              "    </tr>\n",
              "    <tr>\n",
              "      <th>3</th>\n",
              "      <td>2021-09-21 03:41:38+00:00</td>\n",
              "      <td>Who is buying the dip?  Sold #SPY and #NVDA pu...</td>\n",
              "    </tr>\n",
              "    <tr>\n",
              "      <th>4</th>\n",
              "      <td>2021-09-21 02:59:32+00:00</td>\n",
              "      <td>$ES_F Daily\\n\\nDipped below the channel\\n&amp;amp;...</td>\n",
              "    </tr>\n",
              "  </tbody>\n",
              "</table>\n",
              "</div>"
            ],
            "text/plain": [
              "                    Datetime                                               Text\n",
              "0  2021-09-21 18:07:35+00:00  #StockNews #NVDA Are You looking For Hot Stock...\n",
              "1  2021-09-21 14:42:45+00:00  -$61 in 60 minutes | Small Account Trade Log \\...\n",
              "2  2021-09-21 12:25:19+00:00  Women did not get the vote by voting. They too...\n",
              "3  2021-09-21 03:41:38+00:00  Who is buying the dip?  Sold #SPY and #NVDA pu...\n",
              "4  2021-09-21 02:59:32+00:00  $ES_F Daily\\n\\nDipped below the channel\\n&amp;..."
            ]
          },
          "metadata": {},
          "execution_count": 9
        }
      ]
    },
    {
      "cell_type": "code",
      "metadata": {
        "colab": {
          "base_uri": "https://localhost:8080/",
          "height": 206
        },
        "id": "v06e6fOTsWYl",
        "outputId": "39449468-a935-47c6-e2e9-56cb12146d10"
      },
      "source": [
        "df_nvda_fin.head()"
      ],
      "execution_count": 10,
      "outputs": [
        {
          "output_type": "execute_result",
          "data": {
            "text/html": [
              "<div>\n",
              "<style scoped>\n",
              "    .dataframe tbody tr th:only-of-type {\n",
              "        vertical-align: middle;\n",
              "    }\n",
              "\n",
              "    .dataframe tbody tr th {\n",
              "        vertical-align: top;\n",
              "    }\n",
              "\n",
              "    .dataframe thead th {\n",
              "        text-align: right;\n",
              "    }\n",
              "</style>\n",
              "<table border=\"1\" class=\"dataframe\">\n",
              "  <thead>\n",
              "    <tr style=\"text-align: right;\">\n",
              "      <th></th>\n",
              "      <th>Date</th>\n",
              "      <th>Close/Last</th>\n",
              "      <th>Volume</th>\n",
              "      <th>Open</th>\n",
              "      <th>High</th>\n",
              "      <th>Low</th>\n",
              "    </tr>\n",
              "  </thead>\n",
              "  <tbody>\n",
              "    <tr>\n",
              "      <th>0</th>\n",
              "      <td>09/21/2021</td>\n",
              "      <td>$212.46</td>\n",
              "      <td>20468810.0</td>\n",
              "      <td>$214.165</td>\n",
              "      <td>$214.25</td>\n",
              "      <td>$209.5</td>\n",
              "    </tr>\n",
              "    <tr>\n",
              "      <th>1</th>\n",
              "      <td>09/20/2021</td>\n",
              "      <td>$211.13</td>\n",
              "      <td>34944050.0</td>\n",
              "      <td>$211.46</td>\n",
              "      <td>$214.33</td>\n",
              "      <td>$206.62</td>\n",
              "    </tr>\n",
              "    <tr>\n",
              "      <th>2</th>\n",
              "      <td>09/17/2021</td>\n",
              "      <td>$219</td>\n",
              "      <td>29450280.0</td>\n",
              "      <td>$223</td>\n",
              "      <td>$223.21</td>\n",
              "      <td>$218.3</td>\n",
              "    </tr>\n",
              "    <tr>\n",
              "      <th>3</th>\n",
              "      <td>09/16/2021</td>\n",
              "      <td>$222.42</td>\n",
              "      <td>15603340.0</td>\n",
              "      <td>$221.835</td>\n",
              "      <td>$222.77</td>\n",
              "      <td>$219.27</td>\n",
              "    </tr>\n",
              "    <tr>\n",
              "      <th>4</th>\n",
              "      <td>09/15/2021</td>\n",
              "      <td>$223.41</td>\n",
              "      <td>16653800.0</td>\n",
              "      <td>$223.09</td>\n",
              "      <td>$223.6699</td>\n",
              "      <td>$219.66</td>\n",
              "    </tr>\n",
              "  </tbody>\n",
              "</table>\n",
              "</div>"
            ],
            "text/plain": [
              "         Date Close/Last      Volume      Open       High      Low\n",
              "0  09/21/2021    $212.46  20468810.0  $214.165    $214.25   $209.5\n",
              "1  09/20/2021    $211.13  34944050.0   $211.46    $214.33  $206.62\n",
              "2  09/17/2021       $219  29450280.0      $223    $223.21   $218.3\n",
              "3  09/16/2021    $222.42  15603340.0  $221.835    $222.77  $219.27\n",
              "4  09/15/2021    $223.41  16653800.0   $223.09  $223.6699  $219.66"
            ]
          },
          "metadata": {},
          "execution_count": 10
        }
      ]
    },
    {
      "cell_type": "code",
      "metadata": {
        "colab": {
          "base_uri": "https://localhost:8080/",
          "height": 206
        },
        "id": "WtdFnrg-sZbd",
        "outputId": "7efeb02a-1171-4ceb-bc23-06f5c577cacb"
      },
      "source": [
        "df_ppal_tw = pd.read_csv('/content/drive/MyDrive/twiiter_Paypal.csv')\n",
        "df_ppal_fin = pd.read_csv('/content/drive/MyDrive/fin_Paypal.csv')\n",
        "\n",
        "df_ppal_tw.head()"
      ],
      "execution_count": 11,
      "outputs": [
        {
          "output_type": "execute_result",
          "data": {
            "text/html": [
              "<div>\n",
              "<style scoped>\n",
              "    .dataframe tbody tr th:only-of-type {\n",
              "        vertical-align: middle;\n",
              "    }\n",
              "\n",
              "    .dataframe tbody tr th {\n",
              "        vertical-align: top;\n",
              "    }\n",
              "\n",
              "    .dataframe thead th {\n",
              "        text-align: right;\n",
              "    }\n",
              "</style>\n",
              "<table border=\"1\" class=\"dataframe\">\n",
              "  <thead>\n",
              "    <tr style=\"text-align: right;\">\n",
              "      <th></th>\n",
              "      <th>Datetime</th>\n",
              "      <th>Text</th>\n",
              "    </tr>\n",
              "  </thead>\n",
              "  <tbody>\n",
              "    <tr>\n",
              "      <th>0</th>\n",
              "      <td>2021-09-21 23:38:02+00:00</td>\n",
              "      <td>@JerryCap Why is $PYPL so slow at rolling out ...</td>\n",
              "    </tr>\n",
              "    <tr>\n",
              "      <th>1</th>\n",
              "      <td>2021-09-21 23:37:44+00:00</td>\n",
              "      <td>Long Watches: $PYPL, $FB, $QS, $NVDA, $AAPL! S...</td>\n",
              "    </tr>\n",
              "    <tr>\n",
              "      <th>2</th>\n",
              "      <td>2021-09-21 23:36:25+00:00</td>\n",
              "      <td>I recorded it for those who haven't seen it.\\n...</td>\n",
              "    </tr>\n",
              "    <tr>\n",
              "      <th>3</th>\n",
              "      <td>2021-09-21 23:33:51+00:00</td>\n",
              "      <td>Finfluencer Sean D. Emory (18.8k follower) mos...</td>\n",
              "    </tr>\n",
              "    <tr>\n",
              "      <th>4</th>\n",
              "      <td>2021-09-21 23:24:59+00:00</td>\n",
              "      <td>Anyone have thoughts on the terrible $PYPL pri...</td>\n",
              "    </tr>\n",
              "  </tbody>\n",
              "</table>\n",
              "</div>"
            ],
            "text/plain": [
              "                    Datetime                                               Text\n",
              "0  2021-09-21 23:38:02+00:00  @JerryCap Why is $PYPL so slow at rolling out ...\n",
              "1  2021-09-21 23:37:44+00:00  Long Watches: $PYPL, $FB, $QS, $NVDA, $AAPL! S...\n",
              "2  2021-09-21 23:36:25+00:00  I recorded it for those who haven't seen it.\\n...\n",
              "3  2021-09-21 23:33:51+00:00  Finfluencer Sean D. Emory (18.8k follower) mos...\n",
              "4  2021-09-21 23:24:59+00:00  Anyone have thoughts on the terrible $PYPL pri..."
            ]
          },
          "metadata": {},
          "execution_count": 11
        }
      ]
    },
    {
      "cell_type": "code",
      "metadata": {
        "colab": {
          "base_uri": "https://localhost:8080/",
          "height": 206
        },
        "id": "x597dZL6slsl",
        "outputId": "247550d7-480b-466b-84c6-518e9914a99c"
      },
      "source": [
        "df_ppal_fin.head()"
      ],
      "execution_count": 12,
      "outputs": [
        {
          "output_type": "execute_result",
          "data": {
            "text/html": [
              "<div>\n",
              "<style scoped>\n",
              "    .dataframe tbody tr th:only-of-type {\n",
              "        vertical-align: middle;\n",
              "    }\n",
              "\n",
              "    .dataframe tbody tr th {\n",
              "        vertical-align: top;\n",
              "    }\n",
              "\n",
              "    .dataframe thead th {\n",
              "        text-align: right;\n",
              "    }\n",
              "</style>\n",
              "<table border=\"1\" class=\"dataframe\">\n",
              "  <thead>\n",
              "    <tr style=\"text-align: right;\">\n",
              "      <th></th>\n",
              "      <th>Date</th>\n",
              "      <th>Close/Last</th>\n",
              "      <th>Volume</th>\n",
              "      <th>Open</th>\n",
              "      <th>High</th>\n",
              "      <th>Low</th>\n",
              "    </tr>\n",
              "  </thead>\n",
              "  <tbody>\n",
              "    <tr>\n",
              "      <th>0</th>\n",
              "      <td>09/21/2021</td>\n",
              "      <td>$269.49</td>\n",
              "      <td>4326076.0</td>\n",
              "      <td>$271.75</td>\n",
              "      <td>$272.2986</td>\n",
              "      <td>$267.8</td>\n",
              "    </tr>\n",
              "    <tr>\n",
              "      <th>1</th>\n",
              "      <td>09/20/2021</td>\n",
              "      <td>$269.91</td>\n",
              "      <td>7728307.0</td>\n",
              "      <td>$271.55</td>\n",
              "      <td>$273</td>\n",
              "      <td>$265.68</td>\n",
              "    </tr>\n",
              "    <tr>\n",
              "      <th>2</th>\n",
              "      <td>09/17/2021</td>\n",
              "      <td>$276.34</td>\n",
              "      <td>8117226.0</td>\n",
              "      <td>$282.18</td>\n",
              "      <td>$282.5</td>\n",
              "      <td>$275.92</td>\n",
              "    </tr>\n",
              "    <tr>\n",
              "      <th>3</th>\n",
              "      <td>09/16/2021</td>\n",
              "      <td>$282.97</td>\n",
              "      <td>3606742.0</td>\n",
              "      <td>$281.04</td>\n",
              "      <td>$283.69</td>\n",
              "      <td>$280.39</td>\n",
              "    </tr>\n",
              "    <tr>\n",
              "      <th>4</th>\n",
              "      <td>09/15/2021</td>\n",
              "      <td>$282.43</td>\n",
              "      <td>4056783.0</td>\n",
              "      <td>$284.21</td>\n",
              "      <td>$285.75</td>\n",
              "      <td>$279.5</td>\n",
              "    </tr>\n",
              "  </tbody>\n",
              "</table>\n",
              "</div>"
            ],
            "text/plain": [
              "         Date Close/Last     Volume     Open       High      Low\n",
              "0  09/21/2021    $269.49  4326076.0  $271.75  $272.2986   $267.8\n",
              "1  09/20/2021    $269.91  7728307.0  $271.55       $273  $265.68\n",
              "2  09/17/2021    $276.34  8117226.0  $282.18     $282.5  $275.92\n",
              "3  09/16/2021    $282.97  3606742.0  $281.04    $283.69  $280.39\n",
              "4  09/15/2021    $282.43  4056783.0  $284.21    $285.75   $279.5"
            ]
          },
          "metadata": {},
          "execution_count": 12
        }
      ]
    },
    {
      "cell_type": "code",
      "metadata": {
        "colab": {
          "base_uri": "https://localhost:8080/",
          "height": 206
        },
        "id": "GFek4NrIswG9",
        "outputId": "f712c75e-ff6a-4cfb-baf0-675a0f2e35fd"
      },
      "source": [
        "df_tsl_tw = pd.read_csv('/content/drive/MyDrive/twitter_tesla.csv')\n",
        "df_tsl_fin = pd.read_csv('/content/drive/MyDrive/fin_tesla.csv')\n",
        "\n",
        "df_tsl_tw.head()"
      ],
      "execution_count": 14,
      "outputs": [
        {
          "output_type": "execute_result",
          "data": {
            "text/html": [
              "<div>\n",
              "<style scoped>\n",
              "    .dataframe tbody tr th:only-of-type {\n",
              "        vertical-align: middle;\n",
              "    }\n",
              "\n",
              "    .dataframe tbody tr th {\n",
              "        vertical-align: top;\n",
              "    }\n",
              "\n",
              "    .dataframe thead th {\n",
              "        text-align: right;\n",
              "    }\n",
              "</style>\n",
              "<table border=\"1\" class=\"dataframe\">\n",
              "  <thead>\n",
              "    <tr style=\"text-align: right;\">\n",
              "      <th></th>\n",
              "      <th>Datetime</th>\n",
              "      <th>Text</th>\n",
              "    </tr>\n",
              "  </thead>\n",
              "  <tbody>\n",
              "    <tr>\n",
              "      <th>0</th>\n",
              "      <td>2020-05-31 23:57:24+00:00</td>\n",
              "      <td>Trade #Stocks, #ETF and #Options on #Webull! O...</td>\n",
              "    </tr>\n",
              "    <tr>\n",
              "      <th>1</th>\n",
              "      <td>2020-05-31 23:56:26+00:00</td>\n",
              "      <td>Your #free #stock is waiting for you! Join #Ro...</td>\n",
              "    </tr>\n",
              "    <tr>\n",
              "      <th>2</th>\n",
              "      <td>2020-05-31 23:35:46+00:00</td>\n",
              "      <td>Quick Update on $TSLA - Wave 4 triangle has co...</td>\n",
              "    </tr>\n",
              "    <tr>\n",
              "      <th>3</th>\n",
              "      <td>2020-05-31 23:00:24+00:00</td>\n",
              "      <td>#TSLA knocks out @AlamedaCounty. Finally, #Tes...</td>\n",
              "    </tr>\n",
              "    <tr>\n",
              "      <th>4</th>\n",
              "      <td>2020-05-31 21:25:27+00:00</td>\n",
              "      <td>Added some $SPCE Friday - want to build a larg...</td>\n",
              "    </tr>\n",
              "  </tbody>\n",
              "</table>\n",
              "</div>"
            ],
            "text/plain": [
              "                    Datetime                                               Text\n",
              "0  2020-05-31 23:57:24+00:00  Trade #Stocks, #ETF and #Options on #Webull! O...\n",
              "1  2020-05-31 23:56:26+00:00  Your #free #stock is waiting for you! Join #Ro...\n",
              "2  2020-05-31 23:35:46+00:00  Quick Update on $TSLA - Wave 4 triangle has co...\n",
              "3  2020-05-31 23:00:24+00:00  #TSLA knocks out @AlamedaCounty. Finally, #Tes...\n",
              "4  2020-05-31 21:25:27+00:00  Added some $SPCE Friday - want to build a larg..."
            ]
          },
          "metadata": {},
          "execution_count": 14
        }
      ]
    },
    {
      "cell_type": "code",
      "metadata": {
        "colab": {
          "base_uri": "https://localhost:8080/",
          "height": 206
        },
        "id": "ueLgPve4s5ct",
        "outputId": "0c326949-24c9-4d28-be04-932a2a89d455"
      },
      "source": [
        "df_tsl_fin.head()"
      ],
      "execution_count": 15,
      "outputs": [
        {
          "output_type": "execute_result",
          "data": {
            "text/html": [
              "<div>\n",
              "<style scoped>\n",
              "    .dataframe tbody tr th:only-of-type {\n",
              "        vertical-align: middle;\n",
              "    }\n",
              "\n",
              "    .dataframe tbody tr th {\n",
              "        vertical-align: top;\n",
              "    }\n",
              "\n",
              "    .dataframe thead th {\n",
              "        text-align: right;\n",
              "    }\n",
              "</style>\n",
              "<table border=\"1\" class=\"dataframe\">\n",
              "  <thead>\n",
              "    <tr style=\"text-align: right;\">\n",
              "      <th></th>\n",
              "      <th>Date</th>\n",
              "      <th>Close/Last</th>\n",
              "      <th>Volume</th>\n",
              "      <th>Open</th>\n",
              "      <th>High</th>\n",
              "      <th>Low</th>\n",
              "    </tr>\n",
              "  </thead>\n",
              "  <tbody>\n",
              "    <tr>\n",
              "      <th>0</th>\n",
              "      <td>09/21/2021</td>\n",
              "      <td>$143.43</td>\n",
              "      <td>75833960</td>\n",
              "      <td>$143.93</td>\n",
              "      <td>$144.6</td>\n",
              "      <td>$142.78</td>\n",
              "    </tr>\n",
              "    <tr>\n",
              "      <th>1</th>\n",
              "      <td>09/20/2021</td>\n",
              "      <td>$142.94</td>\n",
              "      <td>123478900</td>\n",
              "      <td>$143.8</td>\n",
              "      <td>$144.84</td>\n",
              "      <td>$141.27</td>\n",
              "    </tr>\n",
              "    <tr>\n",
              "      <th>2</th>\n",
              "      <td>09/17/2021</td>\n",
              "      <td>$146.06</td>\n",
              "      <td>129868800</td>\n",
              "      <td>$148.82</td>\n",
              "      <td>$148.82</td>\n",
              "      <td>$145.76</td>\n",
              "    </tr>\n",
              "    <tr>\n",
              "      <th>3</th>\n",
              "      <td>09/16/2021</td>\n",
              "      <td>$148.79</td>\n",
              "      <td>68034150</td>\n",
              "      <td>$148.44</td>\n",
              "      <td>$148.97</td>\n",
              "      <td>$147.221</td>\n",
              "    </tr>\n",
              "    <tr>\n",
              "      <th>4</th>\n",
              "      <td>09/15/2021</td>\n",
              "      <td>$149.03</td>\n",
              "      <td>83281320</td>\n",
              "      <td>$148.56</td>\n",
              "      <td>$149.44</td>\n",
              "      <td>$146.37</td>\n",
              "    </tr>\n",
              "  </tbody>\n",
              "</table>\n",
              "</div>"
            ],
            "text/plain": [
              "         Date Close/Last     Volume     Open     High       Low\n",
              "0  09/21/2021    $143.43   75833960  $143.93   $144.6   $142.78\n",
              "1  09/20/2021    $142.94  123478900   $143.8  $144.84   $141.27\n",
              "2  09/17/2021    $146.06  129868800  $148.82  $148.82   $145.76\n",
              "3  09/16/2021    $148.79   68034150  $148.44  $148.97  $147.221\n",
              "4  09/15/2021    $149.03   83281320  $148.56  $149.44   $146.37"
            ]
          },
          "metadata": {},
          "execution_count": 15
        }
      ]
    },
    {
      "cell_type": "code",
      "metadata": {
        "id": "dBL_2scFs8kF"
      },
      "source": [
        "import re\n",
        "import string"
      ],
      "execution_count": 16,
      "outputs": []
    },
    {
      "cell_type": "code",
      "metadata": {
        "id": "nVj-LZEGtEhe"
      },
      "source": [
        "def CleanTxt(tweets):\n",
        "    tweets = re.sub(r'@[A-Za-z0-9]+', '', str(tweets)) #removes @mentions\n",
        "    tweets = re.sub(r'#','', str(tweets)) #removes the '# tags'\n",
        "    tweets = re.sub(r'RT[\\s]+', '', str(tweets)) #removes retweets\n",
        "    tweets = re.sub(r'^a-zA-Z','',str(tweets)) #removes non alphabets\n",
        "    tweets = re.sub(r'https?:\\/\\/S+', '', str(tweets)) #removes hyperlink\n",
        "    tweets = re.sub(r'\\[*.?\\]', '', str(tweets)) #removes squarebrackets\n",
        "    tweets = re.sub(r'[%s]' % re.escape(string.punctuation), '', str(tweets)) #removes punctuation marks\n",
        "    tweets = re.sub(r'\\w*\\d\\w*', '', str(tweets))\n",
        "    tweets = re.sub(r'[''\"\"...]', '', str(tweets))\n",
        "    tweets = re.sub(r'\\n', '', str(tweets))\n",
        "    \n",
        "    return tweets"
      ],
      "execution_count": 17,
      "outputs": []
    },
    {
      "cell_type": "code",
      "metadata": {
        "id": "lVedMLDttLWG"
      },
      "source": [
        "df_apl_tw['Text'] = df_apl_tw['Text'].apply(CleanTxt)"
      ],
      "execution_count": 18,
      "outputs": []
    },
    {
      "cell_type": "code",
      "metadata": {
        "colab": {
          "base_uri": "https://localhost:8080/",
          "height": 206
        },
        "id": "WjAGxMpAtU_l",
        "outputId": "988b0878-b54e-40d6-9836-c9983d9ab2e9"
      },
      "source": [
        "df_apl_tw.head()"
      ],
      "execution_count": 19,
      "outputs": [
        {
          "output_type": "execute_result",
          "data": {
            "text/html": [
              "<div>\n",
              "<style scoped>\n",
              "    .dataframe tbody tr th:only-of-type {\n",
              "        vertical-align: middle;\n",
              "    }\n",
              "\n",
              "    .dataframe tbody tr th {\n",
              "        vertical-align: top;\n",
              "    }\n",
              "\n",
              "    .dataframe thead th {\n",
              "        text-align: right;\n",
              "    }\n",
              "</style>\n",
              "<table border=\"1\" class=\"dataframe\">\n",
              "  <thead>\n",
              "    <tr style=\"text-align: right;\">\n",
              "      <th></th>\n",
              "      <th>Datetime</th>\n",
              "      <th>Text</th>\n",
              "    </tr>\n",
              "  </thead>\n",
              "  <tbody>\n",
              "    <tr>\n",
              "      <th>0</th>\n",
              "      <td>2020-06-29 22:56:32+00:00</td>\n",
              "      <td>GBPAUD  PIPS Profit🔥🔥For free signals Join for...</td>\n",
              "    </tr>\n",
              "    <tr>\n",
              "      <th>1</th>\n",
              "      <td>2020-06-29 22:20:05+00:00</td>\n",
              "      <td>APPLE ANALYSIS  MIN                   BUY SIGN...</td>\n",
              "    </tr>\n",
              "    <tr>\n",
              "      <th>2</th>\n",
              "      <td>2020-06-29 21:35:23+00:00</td>\n",
              "      <td>EURNZD  Hit  PIPS PROFIT 🔥👍🏻⚡️For Forex signal...</td>\n",
              "    </tr>\n",
              "    <tr>\n",
              "      <th>3</th>\n",
              "      <td>2020-06-29 21:17:03+00:00</td>\n",
              "      <td>Apple Inc price at close  is  apple AAPL</td>\n",
              "    </tr>\n",
              "    <tr>\n",
              "      <th>4</th>\n",
              "      <td>2020-06-29 20:40:54+00:00</td>\n",
              "      <td>NZDCAD Target Hit  PIPS Profit 🔥Checkout the B...</td>\n",
              "    </tr>\n",
              "  </tbody>\n",
              "</table>\n",
              "</div>"
            ],
            "text/plain": [
              "                    Datetime                                               Text\n",
              "0  2020-06-29 22:56:32+00:00  GBPAUD  PIPS Profit🔥🔥For free signals Join for...\n",
              "1  2020-06-29 22:20:05+00:00  APPLE ANALYSIS  MIN                   BUY SIGN...\n",
              "2  2020-06-29 21:35:23+00:00  EURNZD  Hit  PIPS PROFIT 🔥👍🏻⚡️For Forex signal...\n",
              "3  2020-06-29 21:17:03+00:00           Apple Inc price at close  is  apple AAPL\n",
              "4  2020-06-29 20:40:54+00:00  NZDCAD Target Hit  PIPS Profit 🔥Checkout the B..."
            ]
          },
          "metadata": {},
          "execution_count": 19
        }
      ]
    },
    {
      "cell_type": "code",
      "metadata": {
        "id": "zLYbqgyDtgzt"
      },
      "source": [
        "df_apl_tw.to_csv('cleaned_appletwi.csv', index = False)"
      ],
      "execution_count": 20,
      "outputs": []
    },
    {
      "cell_type": "code",
      "metadata": {
        "id": "5I9-DYBLtjwV"
      },
      "source": [
        "df_msft_tw['Text'] = df_msft_tw['Text'].apply(CleanTxt)"
      ],
      "execution_count": 21,
      "outputs": []
    },
    {
      "cell_type": "code",
      "metadata": {
        "colab": {
          "base_uri": "https://localhost:8080/",
          "height": 423
        },
        "id": "xlPiOFU1tmMl",
        "outputId": "25eebd9b-e066-4d26-dbcd-c2e4bd6cb81d"
      },
      "source": [
        "df_msft_tw"
      ],
      "execution_count": 22,
      "outputs": [
        {
          "output_type": "execute_result",
          "data": {
            "text/html": [
              "<div>\n",
              "<style scoped>\n",
              "    .dataframe tbody tr th:only-of-type {\n",
              "        vertical-align: middle;\n",
              "    }\n",
              "\n",
              "    .dataframe tbody tr th {\n",
              "        vertical-align: top;\n",
              "    }\n",
              "\n",
              "    .dataframe thead th {\n",
              "        text-align: right;\n",
              "    }\n",
              "</style>\n",
              "<table border=\"1\" class=\"dataframe\">\n",
              "  <thead>\n",
              "    <tr style=\"text-align: right;\">\n",
              "      <th></th>\n",
              "      <th>Datetime</th>\n",
              "      <th>Text</th>\n",
              "    </tr>\n",
              "  </thead>\n",
              "  <tbody>\n",
              "    <tr>\n",
              "      <th>0</th>\n",
              "      <td>2020-05-31 23:06:34+00:00</td>\n",
              "      <td>MSFT Long our Short   MSFT chart</td>\n",
              "    </tr>\n",
              "    <tr>\n",
              "      <th>1</th>\n",
              "      <td>2020-05-31 20:15:47+00:00</td>\n",
              "      <td>ForexAnalytix Interview The Case For Value Ove...</td>\n",
              "    </tr>\n",
              "    <tr>\n",
              "      <th>2</th>\n",
              "      <td>2020-05-31 19:32:52+00:00</td>\n",
              "      <td>Group  Stocks amp ETF charts are updated in  t...</td>\n",
              "    </tr>\n",
              "    <tr>\n",
              "      <th>3</th>\n",
              "      <td>2020-05-31 19:27:36+00:00</td>\n",
              "      <td>Don Mattrick left MSFT for telling the truth H...</td>\n",
              "    </tr>\n",
              "    <tr>\n",
              "      <th>4</th>\n",
              "      <td>2020-05-31 19:26:06+00:00</td>\n",
              "      <td>As the lockdown hasnt ended protests are erupt...</td>\n",
              "    </tr>\n",
              "    <tr>\n",
              "      <th>...</th>\n",
              "      <td>...</td>\n",
              "      <td>...</td>\n",
              "    </tr>\n",
              "    <tr>\n",
              "      <th>17321</th>\n",
              "      <td>2021-01-01 05:05:52+00:00</td>\n",
              "      <td>If you trade stocks like FB AAPL AMZN AMD GOOG...</td>\n",
              "    </tr>\n",
              "    <tr>\n",
              "      <th>17322</th>\n",
              "      <td>2021-01-01 02:20:30+00:00</td>\n",
              "      <td>Financials of Microsoft MSFT MSFT</td>\n",
              "    </tr>\n",
              "    <tr>\n",
              "      <th>17323</th>\n",
              "      <td>2021-01-01 01:22:50+00:00</td>\n",
              "      <td>Did you know that there is a Windows feature t...</td>\n",
              "    </tr>\n",
              "    <tr>\n",
              "      <th>17324</th>\n",
              "      <td>2021-01-01 01:17:19+00:00</td>\n",
              "      <td>We are freaking out about this because… among ...</td>\n",
              "    </tr>\n",
              "    <tr>\n",
              "      <th>17325</th>\n",
              "      <td>\u001a</td>\n",
              "      <td>nan</td>\n",
              "    </tr>\n",
              "  </tbody>\n",
              "</table>\n",
              "<p>17326 rows × 2 columns</p>\n",
              "</div>"
            ],
            "text/plain": [
              "                        Datetime                                               Text\n",
              "0      2020-05-31 23:06:34+00:00                  MSFT Long our Short   MSFT chart \n",
              "1      2020-05-31 20:15:47+00:00  ForexAnalytix Interview The Case For Value Ove...\n",
              "2      2020-05-31 19:32:52+00:00  Group  Stocks amp ETF charts are updated in  t...\n",
              "3      2020-05-31 19:27:36+00:00  Don Mattrick left MSFT for telling the truth H...\n",
              "4      2020-05-31 19:26:06+00:00  As the lockdown hasnt ended protests are erupt...\n",
              "...                          ...                                                ...\n",
              "17321  2021-01-01 05:05:52+00:00  If you trade stocks like FB AAPL AMZN AMD GOOG...\n",
              "17322  2021-01-01 02:20:30+00:00                 Financials of Microsoft MSFT MSFT \n",
              "17323  2021-01-01 01:22:50+00:00  Did you know that there is a Windows feature t...\n",
              "17324  2021-01-01 01:17:19+00:00  We are freaking out about this because… among ...\n",
              "17325                          \u001a                                                nan\n",
              "\n",
              "[17326 rows x 2 columns]"
            ]
          },
          "metadata": {},
          "execution_count": 22
        }
      ]
    },
    {
      "cell_type": "code",
      "metadata": {
        "id": "eNfcCem6tqIF"
      },
      "source": [
        "df_msft_tw.to_csv('cleaned_msfttwi.csv', index = False)"
      ],
      "execution_count": 23,
      "outputs": []
    },
    {
      "cell_type": "code",
      "metadata": {
        "colab": {
          "base_uri": "https://localhost:8080/",
          "height": 423
        },
        "id": "9yaWMSVstwCd",
        "outputId": "133dc7db-b92b-4315-f1da-382570d31231"
      },
      "source": [
        "df_nvda_tw['Text'] = df_nvda_tw['Text'].apply(CleanTxt)\n",
        "df_nvda_tw"
      ],
      "execution_count": 24,
      "outputs": [
        {
          "output_type": "execute_result",
          "data": {
            "text/html": [
              "<div>\n",
              "<style scoped>\n",
              "    .dataframe tbody tr th:only-of-type {\n",
              "        vertical-align: middle;\n",
              "    }\n",
              "\n",
              "    .dataframe tbody tr th {\n",
              "        vertical-align: top;\n",
              "    }\n",
              "\n",
              "    .dataframe thead th {\n",
              "        text-align: right;\n",
              "    }\n",
              "</style>\n",
              "<table border=\"1\" class=\"dataframe\">\n",
              "  <thead>\n",
              "    <tr style=\"text-align: right;\">\n",
              "      <th></th>\n",
              "      <th>Datetime</th>\n",
              "      <th>Text</th>\n",
              "    </tr>\n",
              "  </thead>\n",
              "  <tbody>\n",
              "    <tr>\n",
              "      <th>0</th>\n",
              "      <td>2021-09-21 18:07:35+00:00</td>\n",
              "      <td>StockNews NVDA Are You looking For Hot Stock N...</td>\n",
              "    </tr>\n",
              "    <tr>\n",
              "      <th>1</th>\n",
              "      <td>2021-09-21 14:42:45+00:00</td>\n",
              "      <td>in  minutes  Small Account Trade Log What a t...</td>\n",
              "    </tr>\n",
              "    <tr>\n",
              "      <th>2</th>\n",
              "      <td>2021-09-21 12:25:19+00:00</td>\n",
              "      <td>Women did not get the vote by voting They took...</td>\n",
              "    </tr>\n",
              "    <tr>\n",
              "      <th>3</th>\n",
              "      <td>2021-09-21 03:41:38+00:00</td>\n",
              "      <td>Who is buying the dip  Sold SPY and NVDA put s...</td>\n",
              "    </tr>\n",
              "    <tr>\n",
              "      <th>4</th>\n",
              "      <td>2021-09-21 02:59:32+00:00</td>\n",
              "      <td>ESF DailyDipped below the channelampBollinger ...</td>\n",
              "    </tr>\n",
              "    <tr>\n",
              "      <th>...</th>\n",
              "      <td>...</td>\n",
              "      <td>...</td>\n",
              "    </tr>\n",
              "    <tr>\n",
              "      <th>6478</th>\n",
              "      <td>2020-01-02 16:45:53+00:00</td>\n",
              "      <td>BLOCK TRADE detected in NVDA</td>\n",
              "    </tr>\n",
              "    <tr>\n",
              "      <th>6479</th>\n",
              "      <td>2020-01-02 16:31:48+00:00</td>\n",
              "      <td>Last tuesday we entered Nvda Nivida Nvda Nivid...</td>\n",
              "    </tr>\n",
              "    <tr>\n",
              "      <th>6480</th>\n",
              "      <td>2020-01-02 15:59:24+00:00</td>\n",
              "      <td>One week till I’m back in rehearsals with  Loo...</td>\n",
              "    </tr>\n",
              "    <tr>\n",
              "      <th>6481</th>\n",
              "      <td>2020-01-02 11:35:44+00:00</td>\n",
              "      <td>Robinhood Dont let  Pass You Up One Stock pick...</td>\n",
              "    </tr>\n",
              "    <tr>\n",
              "      <th>6482</th>\n",
              "      <td>2020-01-01 19:46:33+00:00</td>\n",
              "      <td>HappyNewYear As we reflect on  here is our Top...</td>\n",
              "    </tr>\n",
              "  </tbody>\n",
              "</table>\n",
              "<p>6483 rows × 2 columns</p>\n",
              "</div>"
            ],
            "text/plain": [
              "                       Datetime                                               Text\n",
              "0     2021-09-21 18:07:35+00:00  StockNews NVDA Are You looking For Hot Stock N...\n",
              "1     2021-09-21 14:42:45+00:00   in  minutes  Small Account Trade Log What a t...\n",
              "2     2021-09-21 12:25:19+00:00  Women did not get the vote by voting They took...\n",
              "3     2021-09-21 03:41:38+00:00  Who is buying the dip  Sold SPY and NVDA put s...\n",
              "4     2021-09-21 02:59:32+00:00  ESF DailyDipped below the channelampBollinger ...\n",
              "...                         ...                                                ...\n",
              "6478  2020-01-02 16:45:53+00:00                       BLOCK TRADE detected in NVDA\n",
              "6479  2020-01-02 16:31:48+00:00  Last tuesday we entered Nvda Nivida Nvda Nivid...\n",
              "6480  2020-01-02 15:59:24+00:00  One week till I’m back in rehearsals with  Loo...\n",
              "6481  2020-01-02 11:35:44+00:00  Robinhood Dont let  Pass You Up One Stock pick...\n",
              "6482  2020-01-01 19:46:33+00:00  HappyNewYear As we reflect on  here is our Top...\n",
              "\n",
              "[6483 rows x 2 columns]"
            ]
          },
          "metadata": {},
          "execution_count": 24
        }
      ]
    },
    {
      "cell_type": "code",
      "metadata": {
        "id": "1bj-hSuit15m"
      },
      "source": [
        "df_nvda_tw.to_csv('cleaned_nvdatwi.csv', index = False)"
      ],
      "execution_count": 25,
      "outputs": []
    },
    {
      "cell_type": "code",
      "metadata": {
        "colab": {
          "base_uri": "https://localhost:8080/",
          "height": 423
        },
        "id": "35ZDV12ft6S9",
        "outputId": "cc831d6c-4eb8-43c7-c0cb-1a26affb8a80"
      },
      "source": [
        "df_ppal_tw['Text'] = df_ppal_tw['Text'].apply(CleanTxt)\n",
        "df_ppal_tw"
      ],
      "execution_count": 26,
      "outputs": [
        {
          "output_type": "execute_result",
          "data": {
            "text/html": [
              "<div>\n",
              "<style scoped>\n",
              "    .dataframe tbody tr th:only-of-type {\n",
              "        vertical-align: middle;\n",
              "    }\n",
              "\n",
              "    .dataframe tbody tr th {\n",
              "        vertical-align: top;\n",
              "    }\n",
              "\n",
              "    .dataframe thead th {\n",
              "        text-align: right;\n",
              "    }\n",
              "</style>\n",
              "<table border=\"1\" class=\"dataframe\">\n",
              "  <thead>\n",
              "    <tr style=\"text-align: right;\">\n",
              "      <th></th>\n",
              "      <th>Datetime</th>\n",
              "      <th>Text</th>\n",
              "    </tr>\n",
              "  </thead>\n",
              "  <tbody>\n",
              "    <tr>\n",
              "      <th>0</th>\n",
              "      <td>2021-09-21 23:38:02+00:00</td>\n",
              "      <td>Why is PYPL so slow at rolling out features f...</td>\n",
              "    </tr>\n",
              "    <tr>\n",
              "      <th>1</th>\n",
              "      <td>2021-09-21 23:37:44+00:00</td>\n",
              "      <td>Long Watches PYPL FB QS NVDA AAPL Short Watche...</td>\n",
              "    </tr>\n",
              "    <tr>\n",
              "      <th>2</th>\n",
              "      <td>2021-09-21 23:36:25+00:00</td>\n",
              "      <td>I recorded it for those who havent seen itqyou...</td>\n",
              "    </tr>\n",
              "    <tr>\n",
              "      <th>3</th>\n",
              "      <td>2021-09-21 23:33:51+00:00</td>\n",
              "      <td>Finfluencer Sean D Emory  follower most mentio...</td>\n",
              "    </tr>\n",
              "    <tr>\n",
              "      <th>4</th>\n",
              "      <td>2021-09-21 23:24:59+00:00</td>\n",
              "      <td>Anyone have thoughts on the terrible PYPL pric...</td>\n",
              "    </tr>\n",
              "    <tr>\n",
              "      <th>...</th>\n",
              "      <td>...</td>\n",
              "      <td>...</td>\n",
              "    </tr>\n",
              "    <tr>\n",
              "      <th>10057</th>\n",
              "      <td>2021-08-04 20:22:53+00:00</td>\n",
              "      <td>BTC ETH LINK XTZ ADA VET KNC SXP TWTR ES JD BA...</td>\n",
              "    </tr>\n",
              "    <tr>\n",
              "      <th>10058</th>\n",
              "      <td>2021-08-04 20:22:20+00:00</td>\n",
              "      <td>Let’s hope PYPL holds during AH Most likely t...</td>\n",
              "    </tr>\n",
              "    <tr>\n",
              "      <th>10059</th>\n",
              "      <td>2021-08-04 20:17:44+00:00</td>\n",
              "      <td>PT for pypl tomorrow</td>\n",
              "    </tr>\n",
              "    <tr>\n",
              "      <th>10060</th>\n",
              "      <td>2021-08-04 20:16:28+00:00</td>\n",
              "      <td>ETSY getting slammed on earnings May affect EB...</td>\n",
              "    </tr>\n",
              "    <tr>\n",
              "      <th>10061</th>\n",
              "      <td>2021-08-04 20:15:52+00:00</td>\n",
              "      <td>whales I think RH competition is SQ PYPL SOF...</td>\n",
              "    </tr>\n",
              "  </tbody>\n",
              "</table>\n",
              "<p>10062 rows × 2 columns</p>\n",
              "</div>"
            ],
            "text/plain": [
              "                        Datetime                                               Text\n",
              "0      2021-09-21 23:38:02+00:00   Why is PYPL so slow at rolling out features f...\n",
              "1      2021-09-21 23:37:44+00:00  Long Watches PYPL FB QS NVDA AAPL Short Watche...\n",
              "2      2021-09-21 23:36:25+00:00  I recorded it for those who havent seen itqyou...\n",
              "3      2021-09-21 23:33:51+00:00  Finfluencer Sean D Emory  follower most mentio...\n",
              "4      2021-09-21 23:24:59+00:00  Anyone have thoughts on the terrible PYPL pric...\n",
              "...                          ...                                                ...\n",
              "10057  2021-08-04 20:22:53+00:00  BTC ETH LINK XTZ ADA VET KNC SXP TWTR ES JD BA...\n",
              "10058  2021-08-04 20:22:20+00:00   Let’s hope PYPL holds during AH Most likely t...\n",
              "10059  2021-08-04 20:17:44+00:00                               PT for pypl tomorrow\n",
              "10060  2021-08-04 20:16:28+00:00  ETSY getting slammed on earnings May affect EB...\n",
              "10061  2021-08-04 20:15:52+00:00    whales I think RH competition is SQ PYPL SOF...\n",
              "\n",
              "[10062 rows x 2 columns]"
            ]
          },
          "metadata": {},
          "execution_count": 26
        }
      ]
    },
    {
      "cell_type": "code",
      "metadata": {
        "id": "Iw0cXFT0t-uF"
      },
      "source": [
        "df_ppal_tw.to_csv('cleaned_paypaltwi.csv', index = False)"
      ],
      "execution_count": 27,
      "outputs": []
    },
    {
      "cell_type": "code",
      "metadata": {
        "colab": {
          "base_uri": "https://localhost:8080/",
          "height": 423
        },
        "id": "bYnEVFFGuBfN",
        "outputId": "bd371a73-f498-496f-cc92-763e2c58a4a6"
      },
      "source": [
        "\n",
        "df_tsl_tw['Text'] = df_tsl_tw['Text'].apply(CleanTxt)\n",
        "df_tsl_tw"
      ],
      "execution_count": 28,
      "outputs": [
        {
          "output_type": "execute_result",
          "data": {
            "text/html": [
              "<div>\n",
              "<style scoped>\n",
              "    .dataframe tbody tr th:only-of-type {\n",
              "        vertical-align: middle;\n",
              "    }\n",
              "\n",
              "    .dataframe tbody tr th {\n",
              "        vertical-align: top;\n",
              "    }\n",
              "\n",
              "    .dataframe thead th {\n",
              "        text-align: right;\n",
              "    }\n",
              "</style>\n",
              "<table border=\"1\" class=\"dataframe\">\n",
              "  <thead>\n",
              "    <tr style=\"text-align: right;\">\n",
              "      <th></th>\n",
              "      <th>Datetime</th>\n",
              "      <th>Text</th>\n",
              "    </tr>\n",
              "  </thead>\n",
              "  <tbody>\n",
              "    <tr>\n",
              "      <th>0</th>\n",
              "      <td>2020-05-31 23:57:24+00:00</td>\n",
              "      <td>Trade Stocks ETF and Options on Webull Open an...</td>\n",
              "    </tr>\n",
              "    <tr>\n",
              "      <th>1</th>\n",
              "      <td>2020-05-31 23:56:26+00:00</td>\n",
              "      <td>Your free stock is waiting for you Join Robinh...</td>\n",
              "    </tr>\n",
              "    <tr>\n",
              "      <th>2</th>\n",
              "      <td>2020-05-31 23:35:46+00:00</td>\n",
              "      <td>Quick Update on TSLA  Wave  triangle has compl...</td>\n",
              "    </tr>\n",
              "    <tr>\n",
              "      <th>3</th>\n",
              "      <td>2020-05-31 23:00:24+00:00</td>\n",
              "      <td>TSLA knocks out  Finally Tesla reopened with o...</td>\n",
              "    </tr>\n",
              "    <tr>\n",
              "      <th>4</th>\n",
              "      <td>2020-05-31 21:25:27+00:00</td>\n",
              "      <td>Added some SPCE Friday  want to build a larger...</td>\n",
              "    </tr>\n",
              "    <tr>\n",
              "      <th>...</th>\n",
              "      <td>...</td>\n",
              "      <td>...</td>\n",
              "    </tr>\n",
              "    <tr>\n",
              "      <th>75565</th>\n",
              "      <td>2021-04-01 00:14:19+00:00</td>\n",
              "      <td>I’m going to say that I’ve decided Nikola act...</td>\n",
              "    </tr>\n",
              "    <tr>\n",
              "      <th>75566</th>\n",
              "      <td>2021-04-01 00:10:05+00:00</td>\n",
              "      <td>Tesla TSLA could surprise with strong deliveri...</td>\n",
              "    </tr>\n",
              "    <tr>\n",
              "      <th>75567</th>\n",
              "      <td>2021-04-01 00:07:15+00:00</td>\n",
              "      <td>He banged my line i gotta change  my  number  ...</td>\n",
              "    </tr>\n",
              "    <tr>\n",
              "      <th>75568</th>\n",
              "      <td>2021-04-01 00:02:27+00:00</td>\n",
              "      <td>It’s so funny how people still think Tsla is i...</td>\n",
              "    </tr>\n",
              "    <tr>\n",
              "      <th>75569</th>\n",
              "      <td>\u001a</td>\n",
              "      <td>nan</td>\n",
              "    </tr>\n",
              "  </tbody>\n",
              "</table>\n",
              "<p>75570 rows × 2 columns</p>\n",
              "</div>"
            ],
            "text/plain": [
              "                        Datetime                                               Text\n",
              "0      2020-05-31 23:57:24+00:00  Trade Stocks ETF and Options on Webull Open an...\n",
              "1      2020-05-31 23:56:26+00:00  Your free stock is waiting for you Join Robinh...\n",
              "2      2020-05-31 23:35:46+00:00  Quick Update on TSLA  Wave  triangle has compl...\n",
              "3      2020-05-31 23:00:24+00:00  TSLA knocks out  Finally Tesla reopened with o...\n",
              "4      2020-05-31 21:25:27+00:00  Added some SPCE Friday  want to build a larger...\n",
              "...                          ...                                                ...\n",
              "75565  2021-04-01 00:14:19+00:00   I’m going to say that I’ve decided Nikola act...\n",
              "75566  2021-04-01 00:10:05+00:00  Tesla TSLA could surprise with strong deliveri...\n",
              "75567  2021-04-01 00:07:15+00:00  He banged my line i gotta change  my  number  ...\n",
              "75568  2021-04-01 00:02:27+00:00  It’s so funny how people still think Tsla is i...\n",
              "75569                          \u001a                                                nan\n",
              "\n",
              "[75570 rows x 2 columns]"
            ]
          },
          "metadata": {},
          "execution_count": 28
        }
      ]
    },
    {
      "cell_type": "code",
      "metadata": {
        "id": "rzNFF-WQuIrN"
      },
      "source": [
        "\n",
        "df_tsl_tw.to_csv('cleaned_teslatwi.csv', index = False)"
      ],
      "execution_count": 29,
      "outputs": []
    },
    {
      "cell_type": "code",
      "metadata": {
        "id": "tuP6wXSeuLX1"
      },
      "source": [
        "from textblob import TextBlob"
      ],
      "execution_count": 30,
      "outputs": []
    },
    {
      "cell_type": "code",
      "metadata": {
        "id": "Dc7I4e62uQM9"
      },
      "source": [
        "# subjectivity\n",
        "def getSubjectivity(tweets):\n",
        "    return TextBlob(tweets).sentiment.subjectivity\n",
        "\n",
        "# polarity\n",
        "def getPolarity(tweets):\n",
        "    return TextBlob(tweets).sentiment.polarity"
      ],
      "execution_count": 31,
      "outputs": []
    },
    {
      "cell_type": "code",
      "metadata": {
        "id": "gLGOD-aAuVkO"
      },
      "source": [
        "#Apple\n",
        "df_apl_tw['Subjectivity'] = df_apl_tw['Text'].apply(getSubjectivity)\n",
        "df_apl_tw['Polarity'] = df_apl_tw['Text'].apply(getPolarity)\n",
        "\n",
        "#Microsoft\n",
        "df_msft_tw['Subjectivity'] = df_apl_tw['Text'].apply(getSubjectivity)\n",
        "df_msft_tw['Polarity'] = df_apl_tw['Text'].apply(getPolarity)\n",
        "\n",
        "#NVDA\n",
        "df_nvda_tw['Subjectivity'] = df_apl_tw['Text'].apply(getSubjectivity)\n",
        "df_nvda_tw['Polarity'] = df_apl_tw['Text'].apply(getPolarity)\n",
        "\n",
        "#Paypal\n",
        "df_ppal_tw['Subjectivity'] = df_apl_tw['Text'].apply(getSubjectivity)\n",
        "df_ppal_tw['Polarity'] = df_apl_tw['Text'].apply(getPolarity)\n",
        "\n",
        "#Tesla\n",
        "df_tsl_tw['Subjectivity'] = df_apl_tw['Text'].apply(getSubjectivity)\n",
        "df_tsl_tw['Polarity'] = df_apl_tw['Text'].apply(getPolarity)"
      ],
      "execution_count": 32,
      "outputs": []
    },
    {
      "cell_type": "code",
      "metadata": {
        "id": "lilMQcvFuphW"
      },
      "source": [
        "from wordcloud import WordCloud\n",
        "import matplotlib.pyplot as plt"
      ],
      "execution_count": 34,
      "outputs": []
    },
    {
      "cell_type": "code",
      "metadata": {
        "colab": {
          "base_uri": "https://localhost:8080/",
          "height": 232
        },
        "id": "QTBIWcHBuzUN",
        "outputId": "1ec0e010-7913-4720-8a87-d1b1c61cc7c1"
      },
      "source": [
        "applewords = ' '.join([twts for twts in df_apl_tw['Text']])\n",
        "apl_wcld = WordCloud(width = 500, height = 300 , random_state= 21 , max_font_size = 110 ).generate(applewords)\n",
        "\n",
        "plt.imshow(apl_wcld, interpolation = 'bilinear')\n",
        "plt.axis('off')\n",
        "plt.show()"
      ],
      "execution_count": 35,
      "outputs": [
        {
          "output_type": "display_data",
          "data": {
            "image/png": "[encoded data removed]",
            "text/plain": [
              "<Figure size 432x288 with 1 Axes>"
            ]
          },
          "metadata": {
            "needs_background": "light"
          }
        }
      ]
    },
    {
      "cell_type": "code",
      "metadata": {
        "colab": {
          "base_uri": "https://localhost:8080/",
          "height": 232
        },
        "id": "IGswhQ1FvHQd",
        "outputId": "b2f3cc5c-ccd2-4e09-c5f8-4d3fb7af553e"
      },
      "source": [
        "msftwords = ' '.join([twts for twts in df_msft_tw['Text']])\n",
        "msft_wcld = WordCloud(width = 500, height = 300 , random_state= 21 , max_font_size = 110 ).generate(msftwords)\n",
        "\n",
        "plt.imshow(msft_wcld, interpolation = 'bilinear')\n",
        "plt.axis('off')\n",
        "plt.show()"
      ],
      "execution_count": 36,
      "outputs": [
        {
          "output_type": "display_data",
          "data": {
            "image/png": "[encoded data removed]",
            "text/plain": [
              "<Figure size 432x288 with 1 Axes>"
            ]
          },
          "metadata": {
            "needs_background": "light"
          }
        }
      ]
    },
    {
      "cell_type": "code",
      "metadata": {
        "colab": {
          "base_uri": "https://localhost:8080/",
          "height": 232
        },
        "id": "98dJYLMIvVAV",
        "outputId": "7e8de164-fcb6-458b-ee77-5a075a284c56"
      },
      "source": [
        "nvdawords = ' '.join([twts for twts in df_nvda_tw['Text']])\n",
        "nvda_wcld = WordCloud(width = 500, height = 300 , random_state= 21 , max_font_size = 110 ).generate(nvdawords)\n",
        "\n",
        "plt.imshow(nvda_wcld, interpolation = 'bilinear')\n",
        "plt.axis('off')\n",
        "plt.show()"
      ],
      "execution_count": 37,
      "outputs": [
        {
          "output_type": "display_data",
          "data": {
            "image/png": "[encoded data removed]",
            "text/plain": [
              "<Figure size 432x288 with 1 Axes>"
            ]
          },
          "metadata": {
            "needs_background": "light"
          }
        }
      ]
    },
    {
      "cell_type": "code",
      "metadata": {
        "colab": {
          "base_uri": "https://localhost:8080/",
          "height": 232
        },
        "id": "QgVITx-RvZdN",
        "outputId": "5fa0bdbb-5693-43d7-e296-72e415b5a4a5"
      },
      "source": [
        "ppalwords = ' '.join([twts for twts in df_ppal_tw['Text']])\n",
        "ppal_wcld = WordCloud(width = 500, height = 300 , random_state= 21 , max_font_size = 110 ).generate(ppalwords)\n",
        "\n",
        "plt.imshow(ppal_wcld, interpolation = 'bilinear')\n",
        "plt.axis('off')\n",
        "plt.show()"
      ],
      "execution_count": 39,
      "outputs": [
        {
          "output_type": "display_data",
          "data": {
            "image/png": "[encoded data removed]",
            "text/plain": [
              "<Figure size 432x288 with 1 Axes>"
            ]
          },
          "metadata": {
            "needs_background": "light"
          }
        }
      ]
    },
    {
      "cell_type": "code",
      "metadata": {
        "colab": {
          "base_uri": "https://localhost:8080/",
          "height": 232
        },
        "id": "TYJ01Kr0vipt",
        "outputId": "a2ddae88-b486-4ade-857c-bd1f0b6b9d33"
      },
      "source": [
        "tslwords = ' '.join([twts for twts in df_tsl_tw['Text']])\n",
        "tsl_wcld = WordCloud(width = 500, height = 300 , random_state= 21 , max_font_size = 110 ).generate(tslwords)\n",
        "\n",
        "plt.imshow(tsl_wcld, interpolation = 'bilinear')\n",
        "plt.axis('off')\n",
        "plt.show()"
      ],
      "execution_count": 40,
      "outputs": [
        {
          "output_type": "display_data",
          "data": {
            "image/png": "[encoded data removed]",
            "text/plain": [
              "<Figure size 432x288 with 1 Axes>"
            ]
          },
          "metadata": {
            "needs_background": "light"
          }
        }
      ]
    },
    {
      "cell_type": "code",
      "metadata": {
        "id": "cyuuQp_pvrDt"
      },
      "source": [
        "def getAnalysis(score):\n",
        "    if score < 0:\n",
        "        return 'Negative'\n",
        "    elif score == 0:\n",
        "        return 'Neutral'\n",
        "    else:\n",
        "        return 'Positive'"
      ],
      "execution_count": 41,
      "outputs": []
    },
    {
      "cell_type": "code",
      "metadata": {
        "colab": {
          "base_uri": "https://localhost:8080/",
          "height": 423
        },
        "id": "BBf7nioIvtm1",
        "outputId": "ac39750e-8031-4c6e-c566-d951e30059a7"
      },
      "source": [
        "#Apple\n",
        "df_apl_tw['Analysis'] = df_apl_tw['Polarity'].apply(getAnalysis) \n",
        "\n",
        "#msft\n",
        "df_msft_tw['Analysis'] = df_msft_tw['Polarity'].apply(getAnalysis) \n",
        "\n",
        "#nvda\n",
        "df_nvda_tw['Analysis'] = df_nvda_tw['Polarity'].apply(getAnalysis)\n",
        "\n",
        "#Paypal\n",
        "df_ppal_tw['Analysis'] = df_ppal_tw['Polarity'].apply(getAnalysis) \n",
        "\n",
        "#Tesla\n",
        "df_tsl_tw['Analysis'] = df_tsl_tw['Polarity'].apply(getAnalysis) \n",
        "\n",
        "#show apple's\n",
        "df_apl_tw"
      ],
      "execution_count": 42,
      "outputs": [
        {
          "output_type": "execute_result",
          "data": {
            "text/html": [
              "<div>\n",
              "<style scoped>\n",
              "    .dataframe tbody tr th:only-of-type {\n",
              "        vertical-align: middle;\n",
              "    }\n",
              "\n",
              "    .dataframe tbody tr th {\n",
              "        vertical-align: top;\n",
              "    }\n",
              "\n",
              "    .dataframe thead th {\n",
              "        text-align: right;\n",
              "    }\n",
              "</style>\n",
              "<table border=\"1\" class=\"dataframe\">\n",
              "  <thead>\n",
              "    <tr style=\"text-align: right;\">\n",
              "      <th></th>\n",
              "      <th>Datetime</th>\n",
              "      <th>Text</th>\n",
              "      <th>Subjectivity</th>\n",
              "      <th>Polarity</th>\n",
              "      <th>Analysis</th>\n",
              "    </tr>\n",
              "  </thead>\n",
              "  <tbody>\n",
              "    <tr>\n",
              "      <th>0</th>\n",
              "      <td>2020-06-29 22:56:32+00:00</td>\n",
              "      <td>GBPAUD  PIPS Profit🔥🔥For free signals Join for...</td>\n",
              "      <td>0.80</td>\n",
              "      <td>0.400</td>\n",
              "      <td>Positive</td>\n",
              "    </tr>\n",
              "    <tr>\n",
              "      <th>1</th>\n",
              "      <td>2020-06-29 22:20:05+00:00</td>\n",
              "      <td>APPLE ANALYSIS  MIN                   BUY SIGN...</td>\n",
              "      <td>0.00</td>\n",
              "      <td>0.000</td>\n",
              "      <td>Neutral</td>\n",
              "    </tr>\n",
              "    <tr>\n",
              "      <th>2</th>\n",
              "      <td>2020-06-29 21:35:23+00:00</td>\n",
              "      <td>EURNZD  Hit  PIPS PROFIT 🔥👍🏻⚡️For Forex signal...</td>\n",
              "      <td>0.00</td>\n",
              "      <td>0.000</td>\n",
              "      <td>Neutral</td>\n",
              "    </tr>\n",
              "    <tr>\n",
              "      <th>3</th>\n",
              "      <td>2020-06-29 21:17:03+00:00</td>\n",
              "      <td>Apple Inc price at close  is  apple AAPL</td>\n",
              "      <td>0.00</td>\n",
              "      <td>0.000</td>\n",
              "      <td>Neutral</td>\n",
              "    </tr>\n",
              "    <tr>\n",
              "      <th>4</th>\n",
              "      <td>2020-06-29 20:40:54+00:00</td>\n",
              "      <td>NZDCAD Target Hit  PIPS Profit 🔥Checkout the B...</td>\n",
              "      <td>0.50</td>\n",
              "      <td>0.500</td>\n",
              "      <td>Positive</td>\n",
              "    </tr>\n",
              "    <tr>\n",
              "      <th>...</th>\n",
              "      <td>...</td>\n",
              "      <td>...</td>\n",
              "      <td>...</td>\n",
              "      <td>...</td>\n",
              "      <td>...</td>\n",
              "    </tr>\n",
              "    <tr>\n",
              "      <th>33363</th>\n",
              "      <td>2021-01-01 12:55:44+00:00</td>\n",
              "      <td>Gains AAPL and PLTR Losses AMD and SFIX</td>\n",
              "      <td>0.00</td>\n",
              "      <td>0.000</td>\n",
              "      <td>Neutral</td>\n",
              "    </tr>\n",
              "    <tr>\n",
              "      <th>33364</th>\n",
              "      <td>2021-01-01 06:58:35+00:00</td>\n",
              "      <td>Not all flowers were bloom together If not suc...</td>\n",
              "      <td>0.95</td>\n",
              "      <td>-0.375</td>\n",
              "      <td>Negative</td>\n",
              "    </tr>\n",
              "    <tr>\n",
              "      <th>33365</th>\n",
              "      <td>2021-01-01 05:40:03+00:00</td>\n",
              "      <td>Ending this year with small Boom  BABA AAPL NF...</td>\n",
              "      <td>0.40</td>\n",
              "      <td>-0.250</td>\n",
              "      <td>Negative</td>\n",
              "    </tr>\n",
              "    <tr>\n",
              "      <th>33366</th>\n",
              "      <td>2021-01-01 05:05:52+00:00</td>\n",
              "      <td>If you trade stocks like FB AAPL AMZN AMD GOOG...</td>\n",
              "      <td>0.80</td>\n",
              "      <td>0.400</td>\n",
              "      <td>Positive</td>\n",
              "    </tr>\n",
              "    <tr>\n",
              "      <th>33367</th>\n",
              "      <td>\u001a</td>\n",
              "      <td>nan</td>\n",
              "      <td>0.00</td>\n",
              "      <td>0.000</td>\n",
              "      <td>Neutral</td>\n",
              "    </tr>\n",
              "  </tbody>\n",
              "</table>\n",
              "<p>33368 rows × 5 columns</p>\n",
              "</div>"
            ],
            "text/plain": [
              "                        Datetime  ...  Analysis\n",
              "0      2020-06-29 22:56:32+00:00  ...  Positive\n",
              "1      2020-06-29 22:20:05+00:00  ...   Neutral\n",
              "2      2020-06-29 21:35:23+00:00  ...   Neutral\n",
              "3      2020-06-29 21:17:03+00:00  ...   Neutral\n",
              "4      2020-06-29 20:40:54+00:00  ...  Positive\n",
              "...                          ...  ...       ...\n",
              "33363  2021-01-01 12:55:44+00:00  ...   Neutral\n",
              "33364  2021-01-01 06:58:35+00:00  ...  Negative\n",
              "33365  2021-01-01 05:40:03+00:00  ...  Negative\n",
              "33366  2021-01-01 05:05:52+00:00  ...  Positive\n",
              "33367                          \u001a  ...   Neutral\n",
              "\n",
              "[33368 rows x 5 columns]"
            ]
          },
          "metadata": {},
          "execution_count": 42
        }
      ]
    },
    {
      "cell_type": "code",
      "metadata": {
        "id": "B9yme2ssv3FF"
      },
      "source": [
        "\n",
        "df_apl_tw.replace(['nan',''], float('NaN'), inplace = True)\n",
        "#df_apl_tw.replace('', float('NaN'), inplace = True)\n",
        "df_apl_tw.dropna(subset = ['Text'], inplace = True)"
      ],
      "execution_count": 43,
      "outputs": []
    },
    {
      "cell_type": "code",
      "metadata": {
        "colab": {
          "base_uri": "https://localhost:8080/",
          "height": 423
        },
        "id": "fox-V_8Bv6D0",
        "outputId": "0bdc4d2c-77c0-4bca-a0c9-5665288cd988"
      },
      "source": [
        "df_apl_tw #.head()"
      ],
      "execution_count": 44,
      "outputs": [
        {
          "output_type": "execute_result",
          "data": {
            "text/html": [
              "<div>\n",
              "<style scoped>\n",
              "    .dataframe tbody tr th:only-of-type {\n",
              "        vertical-align: middle;\n",
              "    }\n",
              "\n",
              "    .dataframe tbody tr th {\n",
              "        vertical-align: top;\n",
              "    }\n",
              "\n",
              "    .dataframe thead th {\n",
              "        text-align: right;\n",
              "    }\n",
              "</style>\n",
              "<table border=\"1\" class=\"dataframe\">\n",
              "  <thead>\n",
              "    <tr style=\"text-align: right;\">\n",
              "      <th></th>\n",
              "      <th>Datetime</th>\n",
              "      <th>Text</th>\n",
              "      <th>Subjectivity</th>\n",
              "      <th>Polarity</th>\n",
              "      <th>Analysis</th>\n",
              "    </tr>\n",
              "  </thead>\n",
              "  <tbody>\n",
              "    <tr>\n",
              "      <th>0</th>\n",
              "      <td>2020-06-29 22:56:32+00:00</td>\n",
              "      <td>GBPAUD  PIPS Profit🔥🔥For free signals Join for...</td>\n",
              "      <td>0.80</td>\n",
              "      <td>0.400</td>\n",
              "      <td>Positive</td>\n",
              "    </tr>\n",
              "    <tr>\n",
              "      <th>1</th>\n",
              "      <td>2020-06-29 22:20:05+00:00</td>\n",
              "      <td>APPLE ANALYSIS  MIN                   BUY SIGN...</td>\n",
              "      <td>0.00</td>\n",
              "      <td>0.000</td>\n",
              "      <td>Neutral</td>\n",
              "    </tr>\n",
              "    <tr>\n",
              "      <th>2</th>\n",
              "      <td>2020-06-29 21:35:23+00:00</td>\n",
              "      <td>EURNZD  Hit  PIPS PROFIT 🔥👍🏻⚡️For Forex signal...</td>\n",
              "      <td>0.00</td>\n",
              "      <td>0.000</td>\n",
              "      <td>Neutral</td>\n",
              "    </tr>\n",
              "    <tr>\n",
              "      <th>3</th>\n",
              "      <td>2020-06-29 21:17:03+00:00</td>\n",
              "      <td>Apple Inc price at close  is  apple AAPL</td>\n",
              "      <td>0.00</td>\n",
              "      <td>0.000</td>\n",
              "      <td>Neutral</td>\n",
              "    </tr>\n",
              "    <tr>\n",
              "      <th>4</th>\n",
              "      <td>2020-06-29 20:40:54+00:00</td>\n",
              "      <td>NZDCAD Target Hit  PIPS Profit 🔥Checkout the B...</td>\n",
              "      <td>0.50</td>\n",
              "      <td>0.500</td>\n",
              "      <td>Positive</td>\n",
              "    </tr>\n",
              "    <tr>\n",
              "      <th>...</th>\n",
              "      <td>...</td>\n",
              "      <td>...</td>\n",
              "      <td>...</td>\n",
              "      <td>...</td>\n",
              "      <td>...</td>\n",
              "    </tr>\n",
              "    <tr>\n",
              "      <th>33362</th>\n",
              "      <td>2021-01-01 14:57:32+00:00</td>\n",
              "      <td>httpstcotHNQwFRqRZ  get free stocks for  webul...</td>\n",
              "      <td>0.80</td>\n",
              "      <td>0.400</td>\n",
              "      <td>Positive</td>\n",
              "    </tr>\n",
              "    <tr>\n",
              "      <th>33363</th>\n",
              "      <td>2021-01-01 12:55:44+00:00</td>\n",
              "      <td>Gains AAPL and PLTR Losses AMD and SFIX</td>\n",
              "      <td>0.00</td>\n",
              "      <td>0.000</td>\n",
              "      <td>Neutral</td>\n",
              "    </tr>\n",
              "    <tr>\n",
              "      <th>33364</th>\n",
              "      <td>2021-01-01 06:58:35+00:00</td>\n",
              "      <td>Not all flowers were bloom together If not suc...</td>\n",
              "      <td>0.95</td>\n",
              "      <td>-0.375</td>\n",
              "      <td>Negative</td>\n",
              "    </tr>\n",
              "    <tr>\n",
              "      <th>33365</th>\n",
              "      <td>2021-01-01 05:40:03+00:00</td>\n",
              "      <td>Ending this year with small Boom  BABA AAPL NF...</td>\n",
              "      <td>0.40</td>\n",
              "      <td>-0.250</td>\n",
              "      <td>Negative</td>\n",
              "    </tr>\n",
              "    <tr>\n",
              "      <th>33366</th>\n",
              "      <td>2021-01-01 05:05:52+00:00</td>\n",
              "      <td>If you trade stocks like FB AAPL AMZN AMD GOOG...</td>\n",
              "      <td>0.80</td>\n",
              "      <td>0.400</td>\n",
              "      <td>Positive</td>\n",
              "    </tr>\n",
              "  </tbody>\n",
              "</table>\n",
              "<p>33367 rows × 5 columns</p>\n",
              "</div>"
            ],
            "text/plain": [
              "                        Datetime  ...  Analysis\n",
              "0      2020-06-29 22:56:32+00:00  ...  Positive\n",
              "1      2020-06-29 22:20:05+00:00  ...   Neutral\n",
              "2      2020-06-29 21:35:23+00:00  ...   Neutral\n",
              "3      2020-06-29 21:17:03+00:00  ...   Neutral\n",
              "4      2020-06-29 20:40:54+00:00  ...  Positive\n",
              "...                          ...  ...       ...\n",
              "33362  2021-01-01 14:57:32+00:00  ...  Positive\n",
              "33363  2021-01-01 12:55:44+00:00  ...   Neutral\n",
              "33364  2021-01-01 06:58:35+00:00  ...  Negative\n",
              "33365  2021-01-01 05:40:03+00:00  ...  Negative\n",
              "33366  2021-01-01 05:05:52+00:00  ...  Positive\n",
              "\n",
              "[33367 rows x 5 columns]"
            ]
          },
          "metadata": {},
          "execution_count": 44
        }
      ]
    },
    {
      "cell_type": "code",
      "metadata": {
        "colab": {
          "base_uri": "https://localhost:8080/"
        },
        "id": "Q-uMLxMpv9lM",
        "outputId": "f6b3055a-04fc-442f-8b4d-a28f5a27418a"
      },
      "source": [
        "df_msft_tw.shape"
      ],
      "execution_count": 45,
      "outputs": [
        {
          "output_type": "execute_result",
          "data": {
            "text/plain": [
              "(17326, 5)"
            ]
          },
          "metadata": {},
          "execution_count": 45
        }
      ]
    },
    {
      "cell_type": "code",
      "metadata": {
        "id": "EFbszx9vwBDs"
      },
      "source": [
        "df_msft_tw.replace(['nan',''], float('NaN'), inplace = True)\n",
        "df_msft_tw.dropna(subset = ['Text'], inplace = True)"
      ],
      "execution_count": 46,
      "outputs": []
    },
    {
      "cell_type": "code",
      "metadata": {
        "colab": {
          "base_uri": "https://localhost:8080/"
        },
        "id": "Jcf1uHiqwD0k",
        "outputId": "5a84031c-4036-4375-e4d4-3ed6ed0cc84a"
      },
      "source": [
        "df_msft_tw.shape"
      ],
      "execution_count": 47,
      "outputs": [
        {
          "output_type": "execute_result",
          "data": {
            "text/plain": [
              "(17325, 5)"
            ]
          },
          "metadata": {},
          "execution_count": 47
        }
      ]
    },
    {
      "cell_type": "code",
      "metadata": {
        "colab": {
          "base_uri": "https://localhost:8080/"
        },
        "id": "ABlHB6fDwGAU",
        "outputId": "cadecdea-f5b4-4e91-a0ae-59b568655e87"
      },
      "source": [
        "df_nvda_tw.shape"
      ],
      "execution_count": 48,
      "outputs": [
        {
          "output_type": "execute_result",
          "data": {
            "text/plain": [
              "(6483, 5)"
            ]
          },
          "metadata": {},
          "execution_count": 48
        }
      ]
    },
    {
      "cell_type": "code",
      "metadata": {
        "id": "raBbrZB4wJQ9"
      },
      "source": [
        "df_nvda_tw.replace(['nan',''], float('NaN'), inplace = True)\n",
        "df_nvda_tw.dropna(subset = ['Text'], inplace = True)"
      ],
      "execution_count": 49,
      "outputs": []
    },
    {
      "cell_type": "code",
      "metadata": {
        "colab": {
          "base_uri": "https://localhost:8080/"
        },
        "id": "kEV8Vt0mwLNE",
        "outputId": "5730dec7-52d0-4832-b6b4-7db0d3780a2c"
      },
      "source": [
        "df_nvda_tw.shape"
      ],
      "execution_count": 51,
      "outputs": [
        {
          "output_type": "execute_result",
          "data": {
            "text/plain": [
              "(6189, 5)"
            ]
          },
          "metadata": {},
          "execution_count": 51
        }
      ]
    },
    {
      "cell_type": "code",
      "metadata": {
        "colab": {
          "base_uri": "https://localhost:8080/"
        },
        "id": "QuSBtxBGwOME",
        "outputId": "91094491-8746-49ed-e855-ebab55acdb05"
      },
      "source": [
        "df_ppal_tw.shape"
      ],
      "execution_count": 52,
      "outputs": [
        {
          "output_type": "execute_result",
          "data": {
            "text/plain": [
              "(10062, 5)"
            ]
          },
          "metadata": {},
          "execution_count": 52
        }
      ]
    },
    {
      "cell_type": "code",
      "metadata": {
        "id": "ud3tAeUmwPZ9"
      },
      "source": [
        "df_ppal_tw.replace(['nan',''], float('NaN'), inplace = True)\n",
        "df_ppal_tw.dropna(subset = ['Text'], inplace = True)"
      ],
      "execution_count": 53,
      "outputs": []
    },
    {
      "cell_type": "code",
      "metadata": {
        "colab": {
          "base_uri": "https://localhost:8080/"
        },
        "id": "hgJh_YUawS2G",
        "outputId": "05e33e58-ccd7-40ec-935e-8bb5be73d194"
      },
      "source": [
        "df_ppal_tw.shape"
      ],
      "execution_count": 54,
      "outputs": [
        {
          "output_type": "execute_result",
          "data": {
            "text/plain": [
              "(9958, 5)"
            ]
          },
          "metadata": {},
          "execution_count": 54
        }
      ]
    },
    {
      "cell_type": "code",
      "metadata": {
        "colab": {
          "base_uri": "https://localhost:8080/"
        },
        "id": "QwvAed3ewWC9",
        "outputId": "8da88c4d-efb7-441a-d149-7fa207db791e"
      },
      "source": [
        "df_tsl_tw.shape"
      ],
      "execution_count": 55,
      "outputs": [
        {
          "output_type": "execute_result",
          "data": {
            "text/plain": [
              "(75570, 5)"
            ]
          },
          "metadata": {},
          "execution_count": 55
        }
      ]
    },
    {
      "cell_type": "code",
      "metadata": {
        "id": "m5Vweqt2wZFv"
      },
      "source": [
        "df_tsl_tw.replace(['nan',''], float('NaN'), inplace = True)\n",
        "df_tsl_tw.dropna(subset = ['Text'], inplace = True)"
      ],
      "execution_count": 56,
      "outputs": []
    },
    {
      "cell_type": "code",
      "metadata": {
        "colab": {
          "base_uri": "https://localhost:8080/"
        },
        "id": "aFS9ANlcwcQV",
        "outputId": "bf144ee5-b779-46b6-fb53-e50f0412c41f"
      },
      "source": [
        "df_tsl_tw.shape"
      ],
      "execution_count": 57,
      "outputs": [
        {
          "output_type": "execute_result",
          "data": {
            "text/plain": [
              "(75569, 5)"
            ]
          },
          "metadata": {},
          "execution_count": 57
        }
      ]
    },
    {
      "cell_type": "code",
      "metadata": {
        "colab": {
          "base_uri": "https://localhost:8080/",
          "height": 206
        },
        "id": "lwrUi2HEwiOE",
        "outputId": "eb52ee10-4493-4a10-9205-44e1796193bf"
      },
      "source": [
        "df_apl_tw['Datetime'] = pd.to_datetime(df_apl_tw['Datetime'], errors='coerce')\n",
        "df_apl_tw['Date'] = df_apl_tw['Datetime'].dt.date\n",
        "df_apl_tw.head()"
      ],
      "execution_count": 58,
      "outputs": [
        {
          "output_type": "execute_result",
          "data": {
            "text/html": [
              "<div>\n",
              "<style scoped>\n",
              "    .dataframe tbody tr th:only-of-type {\n",
              "        vertical-align: middle;\n",
              "    }\n",
              "\n",
              "    .dataframe tbody tr th {\n",
              "        vertical-align: top;\n",
              "    }\n",
              "\n",
              "    .dataframe thead th {\n",
              "        text-align: right;\n",
              "    }\n",
              "</style>\n",
              "<table border=\"1\" class=\"dataframe\">\n",
              "  <thead>\n",
              "    <tr style=\"text-align: right;\">\n",
              "      <th></th>\n",
              "      <th>Datetime</th>\n",
              "      <th>Text</th>\n",
              "      <th>Subjectivity</th>\n",
              "      <th>Polarity</th>\n",
              "      <th>Analysis</th>\n",
              "      <th>Date</th>\n",
              "    </tr>\n",
              "  </thead>\n",
              "  <tbody>\n",
              "    <tr>\n",
              "      <th>0</th>\n",
              "      <td>2020-06-29 22:56:32+00:00</td>\n",
              "      <td>GBPAUD  PIPS Profit🔥🔥For free signals Join for...</td>\n",
              "      <td>0.8</td>\n",
              "      <td>0.4</td>\n",
              "      <td>Positive</td>\n",
              "      <td>2020-06-29</td>\n",
              "    </tr>\n",
              "    <tr>\n",
              "      <th>1</th>\n",
              "      <td>2020-06-29 22:20:05+00:00</td>\n",
              "      <td>APPLE ANALYSIS  MIN                   BUY SIGN...</td>\n",
              "      <td>0.0</td>\n",
              "      <td>0.0</td>\n",
              "      <td>Neutral</td>\n",
              "      <td>2020-06-29</td>\n",
              "    </tr>\n",
              "    <tr>\n",
              "      <th>2</th>\n",
              "      <td>2020-06-29 21:35:23+00:00</td>\n",
              "      <td>EURNZD  Hit  PIPS PROFIT 🔥👍🏻⚡️For Forex signal...</td>\n",
              "      <td>0.0</td>\n",
              "      <td>0.0</td>\n",
              "      <td>Neutral</td>\n",
              "      <td>2020-06-29</td>\n",
              "    </tr>\n",
              "    <tr>\n",
              "      <th>3</th>\n",
              "      <td>2020-06-29 21:17:03+00:00</td>\n",
              "      <td>Apple Inc price at close  is  apple AAPL</td>\n",
              "      <td>0.0</td>\n",
              "      <td>0.0</td>\n",
              "      <td>Neutral</td>\n",
              "      <td>2020-06-29</td>\n",
              "    </tr>\n",
              "    <tr>\n",
              "      <th>4</th>\n",
              "      <td>2020-06-29 20:40:54+00:00</td>\n",
              "      <td>NZDCAD Target Hit  PIPS Profit 🔥Checkout the B...</td>\n",
              "      <td>0.5</td>\n",
              "      <td>0.5</td>\n",
              "      <td>Positive</td>\n",
              "      <td>2020-06-29</td>\n",
              "    </tr>\n",
              "  </tbody>\n",
              "</table>\n",
              "</div>"
            ],
            "text/plain": [
              "                   Datetime  ...        Date\n",
              "0 2020-06-29 22:56:32+00:00  ...  2020-06-29\n",
              "1 2020-06-29 22:20:05+00:00  ...  2020-06-29\n",
              "2 2020-06-29 21:35:23+00:00  ...  2020-06-29\n",
              "3 2020-06-29 21:17:03+00:00  ...  2020-06-29\n",
              "4 2020-06-29 20:40:54+00:00  ...  2020-06-29\n",
              "\n",
              "[5 rows x 6 columns]"
            ]
          },
          "metadata": {},
          "execution_count": 58
        }
      ]
    },
    {
      "cell_type": "code",
      "metadata": {
        "id": "pbigdqASwnSk"
      },
      "source": [
        "df_msft_tw['Datetime'] = pd.to_datetime(df_msft_tw['Datetime'], errors='coerce')\n",
        "df_msft_tw['Date'] = df_msft_tw['Datetime'].dt.date\n",
        "#df_msft_tw.dtypes\n",
        "df_nvda_tw['Datetime'] = pd.to_datetime(df_nvda_tw['Datetime'], errors='coerce')\n",
        "df_nvda_tw['Date'] = df_nvda_tw['Datetime'].dt.date\n",
        "\n",
        "\n",
        "df_ppal_tw['Datetime'] = pd.to_datetime(df_ppal_tw['Datetime'], errors='coerce')\n",
        "df_ppal_tw['Date'] = df_ppal_tw['Datetime'].dt.date\n",
        "\n",
        "\n",
        "df_tsl_tw['Datetime'] = pd.to_datetime(df_tsl_tw['Datetime'], errors='coerce')\n",
        "df_tsl_tw['Date'] = df_tsl_tw['Datetime'].dt.date"
      ],
      "execution_count": 59,
      "outputs": []
    },
    {
      "cell_type": "code",
      "metadata": {
        "colab": {
          "base_uri": "https://localhost:8080/",
          "height": 423
        },
        "id": "Vc3h-418wqZU",
        "outputId": "4d566fcd-2e25-48b2-e5d5-54f1a3b67238"
      },
      "source": [
        "\n",
        "df_apl_fin #Check"
      ],
      "execution_count": 60,
      "outputs": [
        {
          "output_type": "execute_result",
          "data": {
            "text/html": [
              "<div>\n",
              "<style scoped>\n",
              "    .dataframe tbody tr th:only-of-type {\n",
              "        vertical-align: middle;\n",
              "    }\n",
              "\n",
              "    .dataframe tbody tr th {\n",
              "        vertical-align: top;\n",
              "    }\n",
              "\n",
              "    .dataframe thead th {\n",
              "        text-align: right;\n",
              "    }\n",
              "</style>\n",
              "<table border=\"1\" class=\"dataframe\">\n",
              "  <thead>\n",
              "    <tr style=\"text-align: right;\">\n",
              "      <th></th>\n",
              "      <th>Date</th>\n",
              "      <th>Close/Last</th>\n",
              "      <th>Volume</th>\n",
              "      <th>Open</th>\n",
              "      <th>High</th>\n",
              "      <th>Low</th>\n",
              "    </tr>\n",
              "  </thead>\n",
              "  <tbody>\n",
              "    <tr>\n",
              "      <th>0</th>\n",
              "      <td>09/21/2021</td>\n",
              "      <td>$143.43</td>\n",
              "      <td>75833960</td>\n",
              "      <td>$143.93</td>\n",
              "      <td>$144.6</td>\n",
              "      <td>$142.78</td>\n",
              "    </tr>\n",
              "    <tr>\n",
              "      <th>1</th>\n",
              "      <td>09/20/2021</td>\n",
              "      <td>$142.94</td>\n",
              "      <td>123478900</td>\n",
              "      <td>$143.8</td>\n",
              "      <td>$144.84</td>\n",
              "      <td>$141.27</td>\n",
              "    </tr>\n",
              "    <tr>\n",
              "      <th>2</th>\n",
              "      <td>09/17/2021</td>\n",
              "      <td>$146.06</td>\n",
              "      <td>129868800</td>\n",
              "      <td>$148.82</td>\n",
              "      <td>$148.82</td>\n",
              "      <td>$145.76</td>\n",
              "    </tr>\n",
              "    <tr>\n",
              "      <th>3</th>\n",
              "      <td>09/16/2021</td>\n",
              "      <td>$148.79</td>\n",
              "      <td>68034150</td>\n",
              "      <td>$148.44</td>\n",
              "      <td>$148.97</td>\n",
              "      <td>$147.221</td>\n",
              "    </tr>\n",
              "    <tr>\n",
              "      <th>4</th>\n",
              "      <td>09/15/2021</td>\n",
              "      <td>$149.03</td>\n",
              "      <td>83281320</td>\n",
              "      <td>$148.56</td>\n",
              "      <td>$149.44</td>\n",
              "      <td>$146.37</td>\n",
              "    </tr>\n",
              "    <tr>\n",
              "      <th>...</th>\n",
              "      <td>...</td>\n",
              "      <td>...</td>\n",
              "      <td>...</td>\n",
              "      <td>...</td>\n",
              "      <td>...</td>\n",
              "      <td>...</td>\n",
              "    </tr>\n",
              "    <tr>\n",
              "      <th>429</th>\n",
              "      <td>01-08-2020</td>\n",
              "      <td>$75.7975</td>\n",
              "      <td>132363800</td>\n",
              "      <td>$74.29</td>\n",
              "      <td>$76.11</td>\n",
              "      <td>$74.289</td>\n",
              "    </tr>\n",
              "    <tr>\n",
              "      <th>430</th>\n",
              "      <td>01-07-2020</td>\n",
              "      <td>$74.5975</td>\n",
              "      <td>111510640</td>\n",
              "      <td>$74.96</td>\n",
              "      <td>$75.225</td>\n",
              "      <td>$74.37</td>\n",
              "    </tr>\n",
              "    <tr>\n",
              "      <th>431</th>\n",
              "      <td>01-06-2020</td>\n",
              "      <td>$74.95</td>\n",
              "      <td>118578560</td>\n",
              "      <td>$73.4475</td>\n",
              "      <td>$74.99</td>\n",
              "      <td>$73.1875</td>\n",
              "    </tr>\n",
              "    <tr>\n",
              "      <th>432</th>\n",
              "      <td>01-03-2020</td>\n",
              "      <td>$74.3575</td>\n",
              "      <td>146535520</td>\n",
              "      <td>$74.2875</td>\n",
              "      <td>$75.145</td>\n",
              "      <td>$74.125</td>\n",
              "    </tr>\n",
              "    <tr>\n",
              "      <th>433</th>\n",
              "      <td>01-02-2020</td>\n",
              "      <td>$75.0875</td>\n",
              "      <td>135647440</td>\n",
              "      <td>$74.06</td>\n",
              "      <td>$75.15</td>\n",
              "      <td>$73.7975</td>\n",
              "    </tr>\n",
              "  </tbody>\n",
              "</table>\n",
              "<p>434 rows × 6 columns</p>\n",
              "</div>"
            ],
            "text/plain": [
              "           Date Close/Last     Volume      Open     High       Low\n",
              "0    09/21/2021    $143.43   75833960   $143.93   $144.6   $142.78\n",
              "1    09/20/2021    $142.94  123478900    $143.8  $144.84   $141.27\n",
              "2    09/17/2021    $146.06  129868800   $148.82  $148.82   $145.76\n",
              "3    09/16/2021    $148.79   68034150   $148.44  $148.97  $147.221\n",
              "4    09/15/2021    $149.03   83281320   $148.56  $149.44   $146.37\n",
              "..          ...        ...        ...       ...      ...       ...\n",
              "429  01-08-2020   $75.7975  132363800    $74.29   $76.11   $74.289\n",
              "430  01-07-2020   $74.5975  111510640    $74.96  $75.225    $74.37\n",
              "431  01-06-2020     $74.95  118578560  $73.4475   $74.99  $73.1875\n",
              "432  01-03-2020   $74.3575  146535520  $74.2875  $75.145   $74.125\n",
              "433  01-02-2020   $75.0875  135647440    $74.06   $75.15  $73.7975\n",
              "\n",
              "[434 rows x 6 columns]"
            ]
          },
          "metadata": {},
          "execution_count": 60
        }
      ]
    },
    {
      "cell_type": "code",
      "metadata": {
        "id": "VPA9q9-6wwM9"
      },
      "source": [
        "df_apl_fin['Date'] = pd.to_datetime(df_apl_fin['Date'], errors='coerce')\n",
        "df_msft_fin['Date'] = pd.to_datetime(df_msft_fin['Date'], errors='coerce')\n",
        "df_nvda_fin['Date'] = pd.to_datetime(df_nvda_fin['Date'], errors='coerce')\n",
        "df_ppal_fin['Date'] = pd.to_datetime(df_ppal_fin['Date'], errors='coerce')\n",
        "df_tsl_fin['Date'] = pd.to_datetime(df_tsl_fin['Date'], errors='coerce')"
      ],
      "execution_count": 61,
      "outputs": []
    },
    {
      "cell_type": "code",
      "metadata": {
        "id": "B_DWgfy8w08W"
      },
      "source": [
        "df_apl_tw['Date'] = pd.to_datetime(df_apl_tw['Date'], errors='coerce')\n",
        "apple = pd.merge(df_apl_tw, df_apl_fin)"
      ],
      "execution_count": 62,
      "outputs": []
    },
    {
      "cell_type": "code",
      "metadata": {
        "colab": {
          "base_uri": "https://localhost:8080/",
          "height": 597
        },
        "id": "GAkmNEMpw3Z1",
        "outputId": "30e8220e-6a87-4210-8477-6d372db8ff22"
      },
      "source": [
        "apple"
      ],
      "execution_count": 63,
      "outputs": [
        {
          "output_type": "execute_result",
          "data": {
            "text/html": [
              "<div>\n",
              "<style scoped>\n",
              "    .dataframe tbody tr th:only-of-type {\n",
              "        vertical-align: middle;\n",
              "    }\n",
              "\n",
              "    .dataframe tbody tr th {\n",
              "        vertical-align: top;\n",
              "    }\n",
              "\n",
              "    .dataframe thead th {\n",
              "        text-align: right;\n",
              "    }\n",
              "</style>\n",
              "<table border=\"1\" class=\"dataframe\">\n",
              "  <thead>\n",
              "    <tr style=\"text-align: right;\">\n",
              "      <th></th>\n",
              "      <th>Datetime</th>\n",
              "      <th>Text</th>\n",
              "      <th>Subjectivity</th>\n",
              "      <th>Polarity</th>\n",
              "      <th>Analysis</th>\n",
              "      <th>Date</th>\n",
              "      <th>Close/Last</th>\n",
              "      <th>Volume</th>\n",
              "      <th>Open</th>\n",
              "      <th>High</th>\n",
              "      <th>Low</th>\n",
              "    </tr>\n",
              "  </thead>\n",
              "  <tbody>\n",
              "    <tr>\n",
              "      <th>0</th>\n",
              "      <td>2020-06-29 22:56:32+00:00</td>\n",
              "      <td>GBPAUD  PIPS Profit🔥🔥For free signals Join for...</td>\n",
              "      <td>0.80</td>\n",
              "      <td>0.40</td>\n",
              "      <td>Positive</td>\n",
              "      <td>2020-06-29</td>\n",
              "      <td>$90.445</td>\n",
              "      <td>130646080</td>\n",
              "      <td>$88.3125</td>\n",
              "      <td>$90.5434</td>\n",
              "      <td>$87.82</td>\n",
              "    </tr>\n",
              "    <tr>\n",
              "      <th>1</th>\n",
              "      <td>2020-06-29 22:20:05+00:00</td>\n",
              "      <td>APPLE ANALYSIS  MIN                   BUY SIGN...</td>\n",
              "      <td>0.00</td>\n",
              "      <td>0.00</td>\n",
              "      <td>Neutral</td>\n",
              "      <td>2020-06-29</td>\n",
              "      <td>$90.445</td>\n",
              "      <td>130646080</td>\n",
              "      <td>$88.3125</td>\n",
              "      <td>$90.5434</td>\n",
              "      <td>$87.82</td>\n",
              "    </tr>\n",
              "    <tr>\n",
              "      <th>2</th>\n",
              "      <td>2020-06-29 21:35:23+00:00</td>\n",
              "      <td>EURNZD  Hit  PIPS PROFIT 🔥👍🏻⚡️For Forex signal...</td>\n",
              "      <td>0.00</td>\n",
              "      <td>0.00</td>\n",
              "      <td>Neutral</td>\n",
              "      <td>2020-06-29</td>\n",
              "      <td>$90.445</td>\n",
              "      <td>130646080</td>\n",
              "      <td>$88.3125</td>\n",
              "      <td>$90.5434</td>\n",
              "      <td>$87.82</td>\n",
              "    </tr>\n",
              "    <tr>\n",
              "      <th>3</th>\n",
              "      <td>2020-06-29 21:17:03+00:00</td>\n",
              "      <td>Apple Inc price at close  is  apple AAPL</td>\n",
              "      <td>0.00</td>\n",
              "      <td>0.00</td>\n",
              "      <td>Neutral</td>\n",
              "      <td>2020-06-29</td>\n",
              "      <td>$90.445</td>\n",
              "      <td>130646080</td>\n",
              "      <td>$88.3125</td>\n",
              "      <td>$90.5434</td>\n",
              "      <td>$87.82</td>\n",
              "    </tr>\n",
              "    <tr>\n",
              "      <th>4</th>\n",
              "      <td>2020-06-29 20:40:54+00:00</td>\n",
              "      <td>NZDCAD Target Hit  PIPS Profit 🔥Checkout the B...</td>\n",
              "      <td>0.50</td>\n",
              "      <td>0.50</td>\n",
              "      <td>Positive</td>\n",
              "      <td>2020-06-29</td>\n",
              "      <td>$90.445</td>\n",
              "      <td>130646080</td>\n",
              "      <td>$88.3125</td>\n",
              "      <td>$90.5434</td>\n",
              "      <td>$87.82</td>\n",
              "    </tr>\n",
              "    <tr>\n",
              "      <th>...</th>\n",
              "      <td>...</td>\n",
              "      <td>...</td>\n",
              "      <td>...</td>\n",
              "      <td>...</td>\n",
              "      <td>...</td>\n",
              "      <td>...</td>\n",
              "      <td>...</td>\n",
              "      <td>...</td>\n",
              "      <td>...</td>\n",
              "      <td>...</td>\n",
              "      <td>...</td>\n",
              "    </tr>\n",
              "    <tr>\n",
              "      <th>26644</th>\n",
              "      <td>2021-01-04 03:55:52+00:00</td>\n",
              "      <td>Flashback This was a fun day trading AAPL pie ...</td>\n",
              "      <td>0.20</td>\n",
              "      <td>0.30</td>\n",
              "      <td>Positive</td>\n",
              "      <td>2021-01-04</td>\n",
              "      <td>$129.41</td>\n",
              "      <td>143301900</td>\n",
              "      <td>$133.52</td>\n",
              "      <td>$133.6116</td>\n",
              "      <td>$126.76</td>\n",
              "    </tr>\n",
              "    <tr>\n",
              "      <th>26645</th>\n",
              "      <td>2021-01-04 03:51:13+00:00</td>\n",
              "      <td>Free Trial available at  SPY GDX XME XLE IYR A...</td>\n",
              "      <td>0.60</td>\n",
              "      <td>0.40</td>\n",
              "      <td>Positive</td>\n",
              "      <td>2021-01-04</td>\n",
              "      <td>$129.41</td>\n",
              "      <td>143301900</td>\n",
              "      <td>$133.52</td>\n",
              "      <td>$133.6116</td>\n",
              "      <td>$126.76</td>\n",
              "    </tr>\n",
              "    <tr>\n",
              "      <th>26646</th>\n",
              "      <td>2021-01-04 02:00:29+00:00</td>\n",
              "      <td>Top Technology Stock Picks Based on Big Data A...</td>\n",
              "      <td>0.30</td>\n",
              "      <td>0.25</td>\n",
              "      <td>Positive</td>\n",
              "      <td>2021-01-04</td>\n",
              "      <td>$129.41</td>\n",
              "      <td>143301900</td>\n",
              "      <td>$133.52</td>\n",
              "      <td>$133.6116</td>\n",
              "      <td>$126.76</td>\n",
              "    </tr>\n",
              "    <tr>\n",
              "      <th>26647</th>\n",
              "      <td>2021-01-04 01:59:00+00:00</td>\n",
              "      <td>Aapl filled one gap would like to see if fill ...</td>\n",
              "      <td>0.45</td>\n",
              "      <td>0.20</td>\n",
              "      <td>Positive</td>\n",
              "      <td>2021-01-04</td>\n",
              "      <td>$129.41</td>\n",
              "      <td>143301900</td>\n",
              "      <td>$133.52</td>\n",
              "      <td>$133.6116</td>\n",
              "      <td>$126.76</td>\n",
              "    </tr>\n",
              "    <tr>\n",
              "      <th>26648</th>\n",
              "      <td>2021-01-04 00:37:57+00:00</td>\n",
              "      <td>My networth will double or triple this year si...</td>\n",
              "      <td>0.00</td>\n",
              "      <td>0.00</td>\n",
              "      <td>Neutral</td>\n",
              "      <td>2021-01-04</td>\n",
              "      <td>$129.41</td>\n",
              "      <td>143301900</td>\n",
              "      <td>$133.52</td>\n",
              "      <td>$133.6116</td>\n",
              "      <td>$126.76</td>\n",
              "    </tr>\n",
              "  </tbody>\n",
              "</table>\n",
              "<p>26649 rows × 11 columns</p>\n",
              "</div>"
            ],
            "text/plain": [
              "                       Datetime  ...      Low\n",
              "0     2020-06-29 22:56:32+00:00  ...   $87.82\n",
              "1     2020-06-29 22:20:05+00:00  ...   $87.82\n",
              "2     2020-06-29 21:35:23+00:00  ...   $87.82\n",
              "3     2020-06-29 21:17:03+00:00  ...   $87.82\n",
              "4     2020-06-29 20:40:54+00:00  ...   $87.82\n",
              "...                         ...  ...      ...\n",
              "26644 2021-01-04 03:55:52+00:00  ...  $126.76\n",
              "26645 2021-01-04 03:51:13+00:00  ...  $126.76\n",
              "26646 2021-01-04 02:00:29+00:00  ...  $126.76\n",
              "26647 2021-01-04 01:59:00+00:00  ...  $126.76\n",
              "26648 2021-01-04 00:37:57+00:00  ...  $126.76\n",
              "\n",
              "[26649 rows x 11 columns]"
            ]
          },
          "metadata": {},
          "execution_count": 63
        }
      ]
    },
    {
      "cell_type": "code",
      "metadata": {
        "id": "fhClmuWQw88F"
      },
      "source": [
        "df_msft_tw['Date'] = pd.to_datetime(df_msft_tw['Date'], errors='coerce')\n",
        "df_nvda_tw['Date'] = pd.to_datetime(df_nvda_tw['Date'], errors='coerce')\n",
        "df_ppal_tw['Date'] = pd.to_datetime(df_ppal_tw['Date'], errors='coerce')\n",
        "df_tsl_tw['Date'] = pd.to_datetime(df_tsl_tw['Date'], errors='coerce')"
      ],
      "execution_count": 64,
      "outputs": []
    },
    {
      "cell_type": "code",
      "metadata": {
        "id": "SgPYAEtvw_nF"
      },
      "source": [
        "msft = pd.merge(df_msft_tw, df_msft_fin)\n",
        "\n",
        "nvda = pd.merge(df_nvda_tw, df_nvda_fin)\n",
        "\n",
        "ppal = pd.merge(df_ppal_tw, df_ppal_fin)\n",
        "\n",
        "tsl = pd.merge(df_tsl_tw, df_tsl_fin)"
      ],
      "execution_count": 65,
      "outputs": []
    },
    {
      "cell_type": "code",
      "metadata": {
        "colab": {
          "base_uri": "https://localhost:8080/",
          "height": 293
        },
        "id": "aHc_H4BXxBd9",
        "outputId": "48518414-99cd-471d-928f-d6a0425146d1"
      },
      "source": [
        "tsl.head() #check"
      ],
      "execution_count": 66,
      "outputs": [
        {
          "output_type": "execute_result",
          "data": {
            "text/html": [
              "<div>\n",
              "<style scoped>\n",
              "    .dataframe tbody tr th:only-of-type {\n",
              "        vertical-align: middle;\n",
              "    }\n",
              "\n",
              "    .dataframe tbody tr th {\n",
              "        vertical-align: top;\n",
              "    }\n",
              "\n",
              "    .dataframe thead th {\n",
              "        text-align: right;\n",
              "    }\n",
              "</style>\n",
              "<table border=\"1\" class=\"dataframe\">\n",
              "  <thead>\n",
              "    <tr style=\"text-align: right;\">\n",
              "      <th></th>\n",
              "      <th>Datetime</th>\n",
              "      <th>Text</th>\n",
              "      <th>Subjectivity</th>\n",
              "      <th>Polarity</th>\n",
              "      <th>Analysis</th>\n",
              "      <th>Date</th>\n",
              "      <th>Close/Last</th>\n",
              "      <th>Volume</th>\n",
              "      <th>Open</th>\n",
              "      <th>High</th>\n",
              "      <th>Low</th>\n",
              "    </tr>\n",
              "  </thead>\n",
              "  <tbody>\n",
              "    <tr>\n",
              "      <th>0</th>\n",
              "      <td>2021-03-31 23:59:00+00:00</td>\n",
              "      <td>TSLA</td>\n",
              "      <td>0.725000</td>\n",
              "      <td>0.30</td>\n",
              "      <td>Positive</td>\n",
              "      <td>2021-03-31</td>\n",
              "      <td>$122.15</td>\n",
              "      <td>118323800</td>\n",
              "      <td>$121.65</td>\n",
              "      <td>$123.52</td>\n",
              "      <td>$121.15</td>\n",
              "    </tr>\n",
              "    <tr>\n",
              "      <th>1</th>\n",
              "      <td>2021-03-31 23:56:45+00:00</td>\n",
              "      <td>Thank you to  amp  for the TSLA stock🙏🏼 INVEST...</td>\n",
              "      <td>0.800000</td>\n",
              "      <td>0.40</td>\n",
              "      <td>Positive</td>\n",
              "      <td>2021-03-31</td>\n",
              "      <td>$122.15</td>\n",
              "      <td>118323800</td>\n",
              "      <td>$121.65</td>\n",
              "      <td>$123.52</td>\n",
              "      <td>$121.15</td>\n",
              "    </tr>\n",
              "    <tr>\n",
              "      <th>2</th>\n",
              "      <td>2021-03-31 23:53:47+00:00</td>\n",
              "      <td>TeslaWhat Can You Say tesla tsla stock stockma...</td>\n",
              "      <td>0.400000</td>\n",
              "      <td>-0.05</td>\n",
              "      <td>Negative</td>\n",
              "      <td>2021-03-31</td>\n",
              "      <td>$122.15</td>\n",
              "      <td>118323800</td>\n",
              "      <td>$121.65</td>\n",
              "      <td>$123.52</td>\n",
              "      <td>$121.15</td>\n",
              "    </tr>\n",
              "    <tr>\n",
              "      <th>3</th>\n",
              "      <td>2021-03-31 23:40:31+00:00</td>\n",
              "      <td>TSLA TSLA</td>\n",
              "      <td>0.000000</td>\n",
              "      <td>0.00</td>\n",
              "      <td>Neutral</td>\n",
              "      <td>2021-03-31</td>\n",
              "      <td>$122.15</td>\n",
              "      <td>118323800</td>\n",
              "      <td>$121.65</td>\n",
              "      <td>$123.52</td>\n",
              "      <td>$121.15</td>\n",
              "    </tr>\n",
              "    <tr>\n",
              "      <th>4</th>\n",
              "      <td>2021-03-31 23:40:18+00:00</td>\n",
              "      <td>LainM TSLA</td>\n",
              "      <td>0.283333</td>\n",
              "      <td>0.25</td>\n",
              "      <td>Positive</td>\n",
              "      <td>2021-03-31</td>\n",
              "      <td>$122.15</td>\n",
              "      <td>118323800</td>\n",
              "      <td>$121.65</td>\n",
              "      <td>$123.52</td>\n",
              "      <td>$121.15</td>\n",
              "    </tr>\n",
              "  </tbody>\n",
              "</table>\n",
              "</div>"
            ],
            "text/plain": [
              "                   Datetime  ...      Low\n",
              "0 2021-03-31 23:59:00+00:00  ...  $121.15\n",
              "1 2021-03-31 23:56:45+00:00  ...  $121.15\n",
              "2 2021-03-31 23:53:47+00:00  ...  $121.15\n",
              "3 2021-03-31 23:40:31+00:00  ...  $121.15\n",
              "4 2021-03-31 23:40:18+00:00  ...  $121.15\n",
              "\n",
              "[5 rows x 11 columns]"
            ]
          },
          "metadata": {},
          "execution_count": 66
        }
      ]
    },
    {
      "cell_type": "code",
      "metadata": {
        "colab": {
          "base_uri": "https://localhost:8080/",
          "height": 597
        },
        "id": "23a4UD0NxNhF",
        "outputId": "201c14a9-43b1-44ca-efb9-03437c0447a0"
      },
      "source": [
        "nvda #check"
      ],
      "execution_count": 68,
      "outputs": [
        {
          "output_type": "execute_result",
          "data": {
            "text/html": [
              "<div>\n",
              "<style scoped>\n",
              "    .dataframe tbody tr th:only-of-type {\n",
              "        vertical-align: middle;\n",
              "    }\n",
              "\n",
              "    .dataframe tbody tr th {\n",
              "        vertical-align: top;\n",
              "    }\n",
              "\n",
              "    .dataframe thead th {\n",
              "        text-align: right;\n",
              "    }\n",
              "</style>\n",
              "<table border=\"1\" class=\"dataframe\">\n",
              "  <thead>\n",
              "    <tr style=\"text-align: right;\">\n",
              "      <th></th>\n",
              "      <th>Text</th>\n",
              "      <th>Subjectivity</th>\n",
              "      <th>Polarity</th>\n",
              "      <th>Analysis</th>\n",
              "      <th>Date</th>\n",
              "      <th>Close/Last</th>\n",
              "      <th>Volume</th>\n",
              "      <th>Open</th>\n",
              "      <th>High</th>\n",
              "      <th>Low</th>\n",
              "    </tr>\n",
              "  </thead>\n",
              "  <tbody>\n",
              "    <tr>\n",
              "      <th>0</th>\n",
              "      <td>StockNews NVDA Are You looking For Hot Stock N...</td>\n",
              "      <td>0.800000</td>\n",
              "      <td>0.400000</td>\n",
              "      <td>Positive</td>\n",
              "      <td>2021-09-21</td>\n",
              "      <td>$212.46</td>\n",
              "      <td>20468810.0</td>\n",
              "      <td>$214.165</td>\n",
              "      <td>$214.25</td>\n",
              "      <td>$209.5</td>\n",
              "    </tr>\n",
              "    <tr>\n",
              "      <th>1</th>\n",
              "      <td>in  minutes  Small Account Trade Log What a t...</td>\n",
              "      <td>0.000000</td>\n",
              "      <td>0.000000</td>\n",
              "      <td>Neutral</td>\n",
              "      <td>2021-09-21</td>\n",
              "      <td>$212.46</td>\n",
              "      <td>20468810.0</td>\n",
              "      <td>$214.165</td>\n",
              "      <td>$214.25</td>\n",
              "      <td>$209.5</td>\n",
              "    </tr>\n",
              "    <tr>\n",
              "      <th>2</th>\n",
              "      <td>Women did not get the vote by voting They took...</td>\n",
              "      <td>0.000000</td>\n",
              "      <td>0.000000</td>\n",
              "      <td>Neutral</td>\n",
              "      <td>2021-09-21</td>\n",
              "      <td>$212.46</td>\n",
              "      <td>20468810.0</td>\n",
              "      <td>$214.165</td>\n",
              "      <td>$214.25</td>\n",
              "      <td>$209.5</td>\n",
              "    </tr>\n",
              "    <tr>\n",
              "      <th>3</th>\n",
              "      <td>Who is buying the dip  Sold SPY and NVDA put s...</td>\n",
              "      <td>0.000000</td>\n",
              "      <td>0.000000</td>\n",
              "      <td>Neutral</td>\n",
              "      <td>2021-09-21</td>\n",
              "      <td>$212.46</td>\n",
              "      <td>20468810.0</td>\n",
              "      <td>$214.165</td>\n",
              "      <td>$214.25</td>\n",
              "      <td>$209.5</td>\n",
              "    </tr>\n",
              "    <tr>\n",
              "      <th>4</th>\n",
              "      <td>ESF DailyDipped below the channelampBollinger ...</td>\n",
              "      <td>0.500000</td>\n",
              "      <td>0.500000</td>\n",
              "      <td>Positive</td>\n",
              "      <td>2021-09-21</td>\n",
              "      <td>$212.46</td>\n",
              "      <td>20468810.0</td>\n",
              "      <td>$214.165</td>\n",
              "      <td>$214.25</td>\n",
              "      <td>$209.5</td>\n",
              "    </tr>\n",
              "    <tr>\n",
              "      <th>...</th>\n",
              "      <td>...</td>\n",
              "      <td>...</td>\n",
              "      <td>...</td>\n",
              "      <td>...</td>\n",
              "      <td>...</td>\n",
              "      <td>...</td>\n",
              "      <td>...</td>\n",
              "      <td>...</td>\n",
              "      <td>...</td>\n",
              "      <td>...</td>\n",
              "    </tr>\n",
              "    <tr>\n",
              "      <th>5114</th>\n",
              "      <td>Classes at Northern Virginia Dance Academy res...</td>\n",
              "      <td>0.633333</td>\n",
              "      <td>0.133333</td>\n",
              "      <td>Positive</td>\n",
              "      <td>2020-01-03</td>\n",
              "      <td>$59.0175</td>\n",
              "      <td>20577232.0</td>\n",
              "      <td>$58.775</td>\n",
              "      <td>$59.4575</td>\n",
              "      <td>$58.525</td>\n",
              "    </tr>\n",
              "    <tr>\n",
              "      <th>5115</th>\n",
              "      <td>BLOCK TRADE detected in NVDA</td>\n",
              "      <td>1.000000</td>\n",
              "      <td>-0.500000</td>\n",
              "      <td>Negative</td>\n",
              "      <td>2020-01-02</td>\n",
              "      <td>$59.9775</td>\n",
              "      <td>23767876.0</td>\n",
              "      <td>$59.6875</td>\n",
              "      <td>$59.9775</td>\n",
              "      <td>$59.18</td>\n",
              "    </tr>\n",
              "    <tr>\n",
              "      <th>5116</th>\n",
              "      <td>Last tuesday we entered Nvda Nivida Nvda Nivid...</td>\n",
              "      <td>0.100000</td>\n",
              "      <td>0.000000</td>\n",
              "      <td>Neutral</td>\n",
              "      <td>2020-01-02</td>\n",
              "      <td>$59.9775</td>\n",
              "      <td>23767876.0</td>\n",
              "      <td>$59.6875</td>\n",
              "      <td>$59.9775</td>\n",
              "      <td>$59.18</td>\n",
              "    </tr>\n",
              "    <tr>\n",
              "      <th>5117</th>\n",
              "      <td>One week till I’m back in rehearsals with  Loo...</td>\n",
              "      <td>0.000000</td>\n",
              "      <td>0.000000</td>\n",
              "      <td>Neutral</td>\n",
              "      <td>2020-01-02</td>\n",
              "      <td>$59.9775</td>\n",
              "      <td>23767876.0</td>\n",
              "      <td>$59.6875</td>\n",
              "      <td>$59.9775</td>\n",
              "      <td>$59.18</td>\n",
              "    </tr>\n",
              "    <tr>\n",
              "      <th>5118</th>\n",
              "      <td>Robinhood Dont let  Pass You Up One Stock pick...</td>\n",
              "      <td>1.000000</td>\n",
              "      <td>-0.700000</td>\n",
              "      <td>Negative</td>\n",
              "      <td>2020-01-02</td>\n",
              "      <td>$59.9775</td>\n",
              "      <td>23767876.0</td>\n",
              "      <td>$59.6875</td>\n",
              "      <td>$59.9775</td>\n",
              "      <td>$59.18</td>\n",
              "    </tr>\n",
              "  </tbody>\n",
              "</table>\n",
              "<p>5119 rows × 10 columns</p>\n",
              "</div>"
            ],
            "text/plain": [
              "                                                   Text  ...      Low\n",
              "0     StockNews NVDA Are You looking For Hot Stock N...  ...   $209.5\n",
              "1      in  minutes  Small Account Trade Log What a t...  ...   $209.5\n",
              "2     Women did not get the vote by voting They took...  ...   $209.5\n",
              "3     Who is buying the dip  Sold SPY and NVDA put s...  ...   $209.5\n",
              "4     ESF DailyDipped below the channelampBollinger ...  ...   $209.5\n",
              "...                                                 ...  ...      ...\n",
              "5114  Classes at Northern Virginia Dance Academy res...  ...  $58.525\n",
              "5115                       BLOCK TRADE detected in NVDA  ...   $59.18\n",
              "5116  Last tuesday we entered Nvda Nivida Nvda Nivid...  ...   $59.18\n",
              "5117  One week till I’m back in rehearsals with  Loo...  ...   $59.18\n",
              "5118  Robinhood Dont let  Pass You Up One Stock pick...  ...   $59.18\n",
              "\n",
              "[5119 rows x 10 columns]"
            ]
          },
          "metadata": {},
          "execution_count": 68
        }
      ]
    },
    {
      "cell_type": "code",
      "metadata": {
        "colab": {
          "base_uri": "https://localhost:8080/",
          "height": 293
        },
        "id": "aDXMFnCIx8wV",
        "outputId": "3b0a839c-101b-4924-de9d-186a2a258784"
      },
      "source": [
        "apple['Year'] = apple['Date'].dt.year\n",
        "apple['Month'] = apple['Date'].dt.month\n",
        "apple['Day'] = apple['Date'].dt.day\n",
        "\n",
        "apple.head()"
      ],
      "execution_count": 71,
      "outputs": [
        {
          "output_type": "execute_result",
          "data": {
            "text/html": [
              "<div>\n",
              "<style scoped>\n",
              "    .dataframe tbody tr th:only-of-type {\n",
              "        vertical-align: middle;\n",
              "    }\n",
              "\n",
              "    .dataframe tbody tr th {\n",
              "        vertical-align: top;\n",
              "    }\n",
              "\n",
              "    .dataframe thead th {\n",
              "        text-align: right;\n",
              "    }\n",
              "</style>\n",
              "<table border=\"1\" class=\"dataframe\">\n",
              "  <thead>\n",
              "    <tr style=\"text-align: right;\">\n",
              "      <th></th>\n",
              "      <th>Text</th>\n",
              "      <th>Subjectivity</th>\n",
              "      <th>Polarity</th>\n",
              "      <th>Analysis</th>\n",
              "      <th>Date</th>\n",
              "      <th>Close/Last</th>\n",
              "      <th>Volume</th>\n",
              "      <th>Open</th>\n",
              "      <th>High</th>\n",
              "      <th>Low</th>\n",
              "      <th>Year</th>\n",
              "      <th>Month</th>\n",
              "      <th>Day</th>\n",
              "    </tr>\n",
              "  </thead>\n",
              "  <tbody>\n",
              "    <tr>\n",
              "      <th>0</th>\n",
              "      <td>GBPAUD  PIPS Profit🔥🔥For free signals Join for...</td>\n",
              "      <td>0.8</td>\n",
              "      <td>0.4</td>\n",
              "      <td>Positive</td>\n",
              "      <td>2020-06-29</td>\n",
              "      <td>$90.445</td>\n",
              "      <td>130646080</td>\n",
              "      <td>$88.3125</td>\n",
              "      <td>$90.5434</td>\n",
              "      <td>$87.82</td>\n",
              "      <td>2020</td>\n",
              "      <td>6</td>\n",
              "      <td>29</td>\n",
              "    </tr>\n",
              "    <tr>\n",
              "      <th>1</th>\n",
              "      <td>APPLE ANALYSIS  MIN                   BUY SIGN...</td>\n",
              "      <td>0.0</td>\n",
              "      <td>0.0</td>\n",
              "      <td>Neutral</td>\n",
              "      <td>2020-06-29</td>\n",
              "      <td>$90.445</td>\n",
              "      <td>130646080</td>\n",
              "      <td>$88.3125</td>\n",
              "      <td>$90.5434</td>\n",
              "      <td>$87.82</td>\n",
              "      <td>2020</td>\n",
              "      <td>6</td>\n",
              "      <td>29</td>\n",
              "    </tr>\n",
              "    <tr>\n",
              "      <th>2</th>\n",
              "      <td>EURNZD  Hit  PIPS PROFIT 🔥👍🏻⚡️For Forex signal...</td>\n",
              "      <td>0.0</td>\n",
              "      <td>0.0</td>\n",
              "      <td>Neutral</td>\n",
              "      <td>2020-06-29</td>\n",
              "      <td>$90.445</td>\n",
              "      <td>130646080</td>\n",
              "      <td>$88.3125</td>\n",
              "      <td>$90.5434</td>\n",
              "      <td>$87.82</td>\n",
              "      <td>2020</td>\n",
              "      <td>6</td>\n",
              "      <td>29</td>\n",
              "    </tr>\n",
              "    <tr>\n",
              "      <th>3</th>\n",
              "      <td>Apple Inc price at close  is  apple AAPL</td>\n",
              "      <td>0.0</td>\n",
              "      <td>0.0</td>\n",
              "      <td>Neutral</td>\n",
              "      <td>2020-06-29</td>\n",
              "      <td>$90.445</td>\n",
              "      <td>130646080</td>\n",
              "      <td>$88.3125</td>\n",
              "      <td>$90.5434</td>\n",
              "      <td>$87.82</td>\n",
              "      <td>2020</td>\n",
              "      <td>6</td>\n",
              "      <td>29</td>\n",
              "    </tr>\n",
              "    <tr>\n",
              "      <th>4</th>\n",
              "      <td>NZDCAD Target Hit  PIPS Profit 🔥Checkout the B...</td>\n",
              "      <td>0.5</td>\n",
              "      <td>0.5</td>\n",
              "      <td>Positive</td>\n",
              "      <td>2020-06-29</td>\n",
              "      <td>$90.445</td>\n",
              "      <td>130646080</td>\n",
              "      <td>$88.3125</td>\n",
              "      <td>$90.5434</td>\n",
              "      <td>$87.82</td>\n",
              "      <td>2020</td>\n",
              "      <td>6</td>\n",
              "      <td>29</td>\n",
              "    </tr>\n",
              "  </tbody>\n",
              "</table>\n",
              "</div>"
            ],
            "text/plain": [
              "                                                Text  Subjectivity  ...  Month Day\n",
              "0  GBPAUD  PIPS Profit🔥🔥For free signals Join for...           0.8  ...      6  29\n",
              "1  APPLE ANALYSIS  MIN                   BUY SIGN...           0.0  ...      6  29\n",
              "2  EURNZD  Hit  PIPS PROFIT 🔥👍🏻⚡️For Forex signal...           0.0  ...      6  29\n",
              "3           Apple Inc price at close  is  apple AAPL           0.0  ...      6  29\n",
              "4  NZDCAD Target Hit  PIPS Profit 🔥Checkout the B...           0.5  ...      6  29\n",
              "\n",
              "[5 rows x 13 columns]"
            ]
          },
          "metadata": {},
          "execution_count": 71
        }
      ]
    },
    {
      "cell_type": "code",
      "metadata": {
        "id": "nrnGBwltyA3c"
      },
      "source": [
        "msft['Year'] = msft['Date'].dt.year\n",
        "msft['Month'] = msft['Date'].dt.month\n",
        "msft['Day'] = msft['Date'].dt.day\n",
        "\n",
        "# #df_msft_tw.head()\n",
        "\n",
        "# #NVDA\n",
        "# df_nvda_tw['Datetime'] = pd.to_datetime(df_nvda_tw['Datetime'], errors='coerce')\n",
        "\n",
        "nvda['Year'] = nvda['Date'].dt.year\n",
        "nvda['Month'] = nvda['Date'].dt.month\n",
        "nvda['Day'] = nvda['Date'].dt.day\n",
        "\n",
        "# #PAYPAL\n",
        "# df_ppal_tw['Datetime'] = pd.to_datetime(df_ppal_tw['Datetime'], errors='coerce')\n",
        "\n",
        "ppal['Year'] = ppal['Date'].dt.year\n",
        "ppal['Month'] = ppal['Date'].dt.month\n",
        "ppal['Day'] = ppal['Date'].dt.day\n",
        "\n",
        "# #TESLA\n",
        "# df_tsl_tw['Datetime'] = pd.to_datetime(df_tsl_tw['Datetime'], errors='coerce')\n",
        "\n",
        "tsl['Year'] = tsl['Date'].dt.year\n",
        "tsl['Month'] = tsl['Date'].dt.month\n",
        "tsl['Day'] = tsl['Date'].dt.day"
      ],
      "execution_count": 72,
      "outputs": []
    },
    {
      "cell_type": "code",
      "metadata": {
        "colab": {
          "base_uri": "https://localhost:8080/",
          "height": 597
        },
        "id": "c2K94PTbyDk0",
        "outputId": "2abf6429-d44c-4634-fbd9-080c41c82716"
      },
      "source": [
        "msft #check"
      ],
      "execution_count": 73,
      "outputs": [
        {
          "output_type": "execute_result",
          "data": {
            "text/html": [
              "<div>\n",
              "<style scoped>\n",
              "    .dataframe tbody tr th:only-of-type {\n",
              "        vertical-align: middle;\n",
              "    }\n",
              "\n",
              "    .dataframe tbody tr th {\n",
              "        vertical-align: top;\n",
              "    }\n",
              "\n",
              "    .dataframe thead th {\n",
              "        text-align: right;\n",
              "    }\n",
              "</style>\n",
              "<table border=\"1\" class=\"dataframe\">\n",
              "  <thead>\n",
              "    <tr style=\"text-align: right;\">\n",
              "      <th></th>\n",
              "      <th>Text</th>\n",
              "      <th>Subjectivity</th>\n",
              "      <th>Polarity</th>\n",
              "      <th>Analysis</th>\n",
              "      <th>Date</th>\n",
              "      <th>Close/Last</th>\n",
              "      <th>Volume</th>\n",
              "      <th>Open</th>\n",
              "      <th>High</th>\n",
              "      <th>Low</th>\n",
              "      <th>Year</th>\n",
              "      <th>Month</th>\n",
              "      <th>Day</th>\n",
              "    </tr>\n",
              "  </thead>\n",
              "  <tbody>\n",
              "    <tr>\n",
              "      <th>0</th>\n",
              "      <td>Microsoft warns about attacks with the PonyFin...</td>\n",
              "      <td>0.75</td>\n",
              "      <td>0.800000</td>\n",
              "      <td>Positive</td>\n",
              "      <td>2020-05-29</td>\n",
              "      <td>$183.25</td>\n",
              "      <td>42146720.0</td>\n",
              "      <td>$182.73</td>\n",
              "      <td>$184.27</td>\n",
              "      <td>$180.41</td>\n",
              "      <td>2020.0</td>\n",
              "      <td>5.0</td>\n",
              "      <td>29.0</td>\n",
              "    </tr>\n",
              "    <tr>\n",
              "      <th>1</th>\n",
              "      <td>Watch  explain how we work closely with Micros...</td>\n",
              "      <td>0.00</td>\n",
              "      <td>0.000000</td>\n",
              "      <td>Neutral</td>\n",
              "      <td>2020-05-29</td>\n",
              "      <td>$183.25</td>\n",
              "      <td>42146720.0</td>\n",
              "      <td>$182.73</td>\n",
              "      <td>$184.27</td>\n",
              "      <td>$180.41</td>\n",
              "      <td>2020.0</td>\n",
              "      <td>5.0</td>\n",
              "      <td>29.0</td>\n",
              "    </tr>\n",
              "    <tr>\n",
              "      <th>2</th>\n",
              "      <td>The Brokers at GSIMarkets whould like to infor...</td>\n",
              "      <td>0.70</td>\n",
              "      <td>0.366667</td>\n",
              "      <td>Positive</td>\n",
              "      <td>2020-05-29</td>\n",
              "      <td>$183.25</td>\n",
              "      <td>42146720.0</td>\n",
              "      <td>$182.73</td>\n",
              "      <td>$184.27</td>\n",
              "      <td>$180.41</td>\n",
              "      <td>2020.0</td>\n",
              "      <td>5.0</td>\n",
              "      <td>29.0</td>\n",
              "    </tr>\n",
              "    <tr>\n",
              "      <th>3</th>\n",
              "      <td>Dabbling with Futures more now made this nice ...</td>\n",
              "      <td>0.54</td>\n",
              "      <td>0.160000</td>\n",
              "      <td>Positive</td>\n",
              "      <td>2020-05-29</td>\n",
              "      <td>$183.25</td>\n",
              "      <td>42146720.0</td>\n",
              "      <td>$182.73</td>\n",
              "      <td>$184.27</td>\n",
              "      <td>$180.41</td>\n",
              "      <td>2020.0</td>\n",
              "      <td>5.0</td>\n",
              "      <td>29.0</td>\n",
              "    </tr>\n",
              "    <tr>\n",
              "      <th>4</th>\n",
              "      <td>bill gates of microsoft  msft</td>\n",
              "      <td>0.00</td>\n",
              "      <td>0.000000</td>\n",
              "      <td>Neutral</td>\n",
              "      <td>2020-05-29</td>\n",
              "      <td>$183.25</td>\n",
              "      <td>42146720.0</td>\n",
              "      <td>$182.73</td>\n",
              "      <td>$184.27</td>\n",
              "      <td>$180.41</td>\n",
              "      <td>2020.0</td>\n",
              "      <td>5.0</td>\n",
              "      <td>29.0</td>\n",
              "    </tr>\n",
              "    <tr>\n",
              "      <th>...</th>\n",
              "      <td>...</td>\n",
              "      <td>...</td>\n",
              "      <td>...</td>\n",
              "      <td>...</td>\n",
              "      <td>...</td>\n",
              "      <td>...</td>\n",
              "      <td>...</td>\n",
              "      <td>...</td>\n",
              "      <td>...</td>\n",
              "      <td>...</td>\n",
              "      <td>...</td>\n",
              "      <td>...</td>\n",
              "      <td>...</td>\n",
              "    </tr>\n",
              "    <tr>\n",
              "      <th>16769</th>\n",
              "      <td>UK has not produced a world class company sin...</td>\n",
              "      <td>0.10</td>\n",
              "      <td>0.000000</td>\n",
              "      <td>Neutral</td>\n",
              "      <td>2021-01-04</td>\n",
              "      <td>$217.69</td>\n",
              "      <td>37130140.0</td>\n",
              "      <td>$222.53</td>\n",
              "      <td>$223</td>\n",
              "      <td>$214.81</td>\n",
              "      <td>2021.0</td>\n",
              "      <td>1.0</td>\n",
              "      <td>4.0</td>\n",
              "    </tr>\n",
              "    <tr>\n",
              "      <th>16770</th>\n",
              "      <td>msft just because I have an outstanding entry...</td>\n",
              "      <td>0.00</td>\n",
              "      <td>0.000000</td>\n",
              "      <td>Neutral</td>\n",
              "      <td>2021-01-04</td>\n",
              "      <td>$217.69</td>\n",
              "      <td>37130140.0</td>\n",
              "      <td>$222.53</td>\n",
              "      <td>$223</td>\n",
              "      <td>$214.81</td>\n",
              "      <td>2021.0</td>\n",
              "      <td>1.0</td>\n",
              "      <td>4.0</td>\n",
              "    </tr>\n",
              "    <tr>\n",
              "      <th>16771</th>\n",
              "      <td>I dont Took their anger they had on MSFT on t...</td>\n",
              "      <td>1.00</td>\n",
              "      <td>0.900000</td>\n",
              "      <td>Positive</td>\n",
              "      <td>2021-01-04</td>\n",
              "      <td>$217.69</td>\n",
              "      <td>37130140.0</td>\n",
              "      <td>$222.53</td>\n",
              "      <td>$223</td>\n",
              "      <td>$214.81</td>\n",
              "      <td>2021.0</td>\n",
              "      <td>1.0</td>\n",
              "      <td>4.0</td>\n",
              "    </tr>\n",
              "    <tr>\n",
              "      <th>16772</th>\n",
              "      <td>Free Trial available at  SPY GDX XME XLE IYR A...</td>\n",
              "      <td>0.50</td>\n",
              "      <td>0.500000</td>\n",
              "      <td>Positive</td>\n",
              "      <td>2021-01-04</td>\n",
              "      <td>$217.69</td>\n",
              "      <td>37130140.0</td>\n",
              "      <td>$222.53</td>\n",
              "      <td>$223</td>\n",
              "      <td>$214.81</td>\n",
              "      <td>2021.0</td>\n",
              "      <td>1.0</td>\n",
              "      <td>4.0</td>\n",
              "    </tr>\n",
              "    <tr>\n",
              "      <th>16773</th>\n",
              "      <td>Steve Balmer’s video did not age well The disr...</td>\n",
              "      <td>0.00</td>\n",
              "      <td>0.000000</td>\n",
              "      <td>Neutral</td>\n",
              "      <td>2021-01-04</td>\n",
              "      <td>$217.69</td>\n",
              "      <td>37130140.0</td>\n",
              "      <td>$222.53</td>\n",
              "      <td>$223</td>\n",
              "      <td>$214.81</td>\n",
              "      <td>2021.0</td>\n",
              "      <td>1.0</td>\n",
              "      <td>4.0</td>\n",
              "    </tr>\n",
              "  </tbody>\n",
              "</table>\n",
              "<p>16774 rows × 13 columns</p>\n",
              "</div>"
            ],
            "text/plain": [
              "                                                    Text  ...   Day\n",
              "0      Microsoft warns about attacks with the PonyFin...  ...  29.0\n",
              "1      Watch  explain how we work closely with Micros...  ...  29.0\n",
              "2      The Brokers at GSIMarkets whould like to infor...  ...  29.0\n",
              "3      Dabbling with Futures more now made this nice ...  ...  29.0\n",
              "4                          bill gates of microsoft  msft  ...  29.0\n",
              "...                                                  ...  ...   ...\n",
              "16769   UK has not produced a world class company sin...  ...   4.0\n",
              "16770   msft just because I have an outstanding entry...  ...   4.0\n",
              "16771   I dont Took their anger they had on MSFT on t...  ...   4.0\n",
              "16772  Free Trial available at  SPY GDX XME XLE IYR A...  ...   4.0\n",
              "16773  Steve Balmer’s video did not age well The disr...  ...   4.0\n",
              "\n",
              "[16774 rows x 13 columns]"
            ]
          },
          "metadata": {},
          "execution_count": 73
        }
      ]
    },
    {
      "cell_type": "code",
      "metadata": {
        "id": "izqfrWxtyG3k"
      },
      "source": [
        "apple[['Year','Month','Day']] = apple[['Year','Month','Day']].astype('object')\n",
        "\n",
        "msft[['Year','Month','Day']] = msft[['Year','Month','Day']].astype('object')\n",
        "\n",
        "nvda[['Year','Month','Day']] = nvda[['Year','Month','Day']].astype('object')\n",
        "\n",
        "ppal[['Year','Month','Day']] = ppal[['Year','Month','Day']].astype('object')\n",
        "\n",
        "tsl[['Year','Month','Day']] = tsl[['Year','Month','Day']].astype('object')"
      ],
      "execution_count": 74,
      "outputs": []
    },
    {
      "cell_type": "code",
      "metadata": {
        "colab": {
          "base_uri": "https://localhost:8080/",
          "height": 293
        },
        "id": "KhrISP8cyI_F",
        "outputId": "f6026c9a-e3bc-45a8-dc33-f12cde1a587a"
      },
      "source": [
        "apple['Tag'] = 'Apple'\n",
        "apple.head()"
      ],
      "execution_count": 75,
      "outputs": [
        {
          "output_type": "execute_result",
          "data": {
            "text/html": [
              "<div>\n",
              "<style scoped>\n",
              "    .dataframe tbody tr th:only-of-type {\n",
              "        vertical-align: middle;\n",
              "    }\n",
              "\n",
              "    .dataframe tbody tr th {\n",
              "        vertical-align: top;\n",
              "    }\n",
              "\n",
              "    .dataframe thead th {\n",
              "        text-align: right;\n",
              "    }\n",
              "</style>\n",
              "<table border=\"1\" class=\"dataframe\">\n",
              "  <thead>\n",
              "    <tr style=\"text-align: right;\">\n",
              "      <th></th>\n",
              "      <th>Text</th>\n",
              "      <th>Subjectivity</th>\n",
              "      <th>Polarity</th>\n",
              "      <th>Analysis</th>\n",
              "      <th>Date</th>\n",
              "      <th>Close/Last</th>\n",
              "      <th>Volume</th>\n",
              "      <th>Open</th>\n",
              "      <th>High</th>\n",
              "      <th>Low</th>\n",
              "      <th>Year</th>\n",
              "      <th>Month</th>\n",
              "      <th>Day</th>\n",
              "      <th>Tag</th>\n",
              "    </tr>\n",
              "  </thead>\n",
              "  <tbody>\n",
              "    <tr>\n",
              "      <th>0</th>\n",
              "      <td>GBPAUD  PIPS Profit🔥🔥For free signals Join for...</td>\n",
              "      <td>0.8</td>\n",
              "      <td>0.4</td>\n",
              "      <td>Positive</td>\n",
              "      <td>2020-06-29</td>\n",
              "      <td>$90.445</td>\n",
              "      <td>130646080</td>\n",
              "      <td>$88.3125</td>\n",
              "      <td>$90.5434</td>\n",
              "      <td>$87.82</td>\n",
              "      <td>2020</td>\n",
              "      <td>6</td>\n",
              "      <td>29</td>\n",
              "      <td>Apple</td>\n",
              "    </tr>\n",
              "    <tr>\n",
              "      <th>1</th>\n",
              "      <td>APPLE ANALYSIS  MIN                   BUY SIGN...</td>\n",
              "      <td>0.0</td>\n",
              "      <td>0.0</td>\n",
              "      <td>Neutral</td>\n",
              "      <td>2020-06-29</td>\n",
              "      <td>$90.445</td>\n",
              "      <td>130646080</td>\n",
              "      <td>$88.3125</td>\n",
              "      <td>$90.5434</td>\n",
              "      <td>$87.82</td>\n",
              "      <td>2020</td>\n",
              "      <td>6</td>\n",
              "      <td>29</td>\n",
              "      <td>Apple</td>\n",
              "    </tr>\n",
              "    <tr>\n",
              "      <th>2</th>\n",
              "      <td>EURNZD  Hit  PIPS PROFIT 🔥👍🏻⚡️For Forex signal...</td>\n",
              "      <td>0.0</td>\n",
              "      <td>0.0</td>\n",
              "      <td>Neutral</td>\n",
              "      <td>2020-06-29</td>\n",
              "      <td>$90.445</td>\n",
              "      <td>130646080</td>\n",
              "      <td>$88.3125</td>\n",
              "      <td>$90.5434</td>\n",
              "      <td>$87.82</td>\n",
              "      <td>2020</td>\n",
              "      <td>6</td>\n",
              "      <td>29</td>\n",
              "      <td>Apple</td>\n",
              "    </tr>\n",
              "    <tr>\n",
              "      <th>3</th>\n",
              "      <td>Apple Inc price at close  is  apple AAPL</td>\n",
              "      <td>0.0</td>\n",
              "      <td>0.0</td>\n",
              "      <td>Neutral</td>\n",
              "      <td>2020-06-29</td>\n",
              "      <td>$90.445</td>\n",
              "      <td>130646080</td>\n",
              "      <td>$88.3125</td>\n",
              "      <td>$90.5434</td>\n",
              "      <td>$87.82</td>\n",
              "      <td>2020</td>\n",
              "      <td>6</td>\n",
              "      <td>29</td>\n",
              "      <td>Apple</td>\n",
              "    </tr>\n",
              "    <tr>\n",
              "      <th>4</th>\n",
              "      <td>NZDCAD Target Hit  PIPS Profit 🔥Checkout the B...</td>\n",
              "      <td>0.5</td>\n",
              "      <td>0.5</td>\n",
              "      <td>Positive</td>\n",
              "      <td>2020-06-29</td>\n",
              "      <td>$90.445</td>\n",
              "      <td>130646080</td>\n",
              "      <td>$88.3125</td>\n",
              "      <td>$90.5434</td>\n",
              "      <td>$87.82</td>\n",
              "      <td>2020</td>\n",
              "      <td>6</td>\n",
              "      <td>29</td>\n",
              "      <td>Apple</td>\n",
              "    </tr>\n",
              "  </tbody>\n",
              "</table>\n",
              "</div>"
            ],
            "text/plain": [
              "                                                Text  Subjectivity  ...  Day    Tag\n",
              "0  GBPAUD  PIPS Profit🔥🔥For free signals Join for...           0.8  ...   29  Apple\n",
              "1  APPLE ANALYSIS  MIN                   BUY SIGN...           0.0  ...   29  Apple\n",
              "2  EURNZD  Hit  PIPS PROFIT 🔥👍🏻⚡️For Forex signal...           0.0  ...   29  Apple\n",
              "3           Apple Inc price at close  is  apple AAPL           0.0  ...   29  Apple\n",
              "4  NZDCAD Target Hit  PIPS Profit 🔥Checkout the B...           0.5  ...   29  Apple\n",
              "\n",
              "[5 rows x 14 columns]"
            ]
          },
          "metadata": {},
          "execution_count": 75
        }
      ]
    },
    {
      "cell_type": "code",
      "metadata": {
        "id": "A5umYTybyLM8"
      },
      "source": [
        "msft['Tag'] = 'Microsoft'\n",
        "nvda['Tag'] = 'Nvidia'\n",
        "ppal['Tag'] = 'PayPal'\n",
        "tsl['Tag'] = 'Tesla'"
      ],
      "execution_count": 76,
      "outputs": []
    },
    {
      "cell_type": "code",
      "metadata": {
        "id": "0qkkbGY3yOiM"
      },
      "source": [
        "master_file = pd.concat([apple,msft,nvda,ppal,tsl], ignore_index = True)"
      ],
      "execution_count": 77,
      "outputs": []
    },
    {
      "cell_type": "code",
      "metadata": {
        "id": "-Ph9NQX7yROc"
      },
      "source": [
        "cols = ['Close/Last','Open','High','Low']\n",
        "master_file[cols] = master_file[cols].replace({'\\$':''}, regex = True)"
      ],
      "execution_count": 78,
      "outputs": []
    },
    {
      "cell_type": "code",
      "metadata": {
        "colab": {
          "base_uri": "https://localhost:8080/",
          "height": 293
        },
        "id": "gYIC5XZNyT4s",
        "outputId": "4ce07f02-aaea-4f89-d841-4585c2d2f185"
      },
      "source": [
        "master_file.head()"
      ],
      "execution_count": 79,
      "outputs": [
        {
          "output_type": "execute_result",
          "data": {
            "text/html": [
              "<div>\n",
              "<style scoped>\n",
              "    .dataframe tbody tr th:only-of-type {\n",
              "        vertical-align: middle;\n",
              "    }\n",
              "\n",
              "    .dataframe tbody tr th {\n",
              "        vertical-align: top;\n",
              "    }\n",
              "\n",
              "    .dataframe thead th {\n",
              "        text-align: right;\n",
              "    }\n",
              "</style>\n",
              "<table border=\"1\" class=\"dataframe\">\n",
              "  <thead>\n",
              "    <tr style=\"text-align: right;\">\n",
              "      <th></th>\n",
              "      <th>Text</th>\n",
              "      <th>Subjectivity</th>\n",
              "      <th>Polarity</th>\n",
              "      <th>Analysis</th>\n",
              "      <th>Date</th>\n",
              "      <th>Close/Last</th>\n",
              "      <th>Volume</th>\n",
              "      <th>Open</th>\n",
              "      <th>High</th>\n",
              "      <th>Low</th>\n",
              "      <th>Year</th>\n",
              "      <th>Month</th>\n",
              "      <th>Day</th>\n",
              "      <th>Tag</th>\n",
              "    </tr>\n",
              "  </thead>\n",
              "  <tbody>\n",
              "    <tr>\n",
              "      <th>0</th>\n",
              "      <td>GBPAUD  PIPS Profit🔥🔥For free signals Join for...</td>\n",
              "      <td>0.8</td>\n",
              "      <td>0.4</td>\n",
              "      <td>Positive</td>\n",
              "      <td>2020-06-29</td>\n",
              "      <td>90.445</td>\n",
              "      <td>130646080.0</td>\n",
              "      <td>88.3125</td>\n",
              "      <td>90.5434</td>\n",
              "      <td>87.82</td>\n",
              "      <td>2020</td>\n",
              "      <td>6</td>\n",
              "      <td>29</td>\n",
              "      <td>Apple</td>\n",
              "    </tr>\n",
              "    <tr>\n",
              "      <th>1</th>\n",
              "      <td>APPLE ANALYSIS  MIN                   BUY SIGN...</td>\n",
              "      <td>0.0</td>\n",
              "      <td>0.0</td>\n",
              "      <td>Neutral</td>\n",
              "      <td>2020-06-29</td>\n",
              "      <td>90.445</td>\n",
              "      <td>130646080.0</td>\n",
              "      <td>88.3125</td>\n",
              "      <td>90.5434</td>\n",
              "      <td>87.82</td>\n",
              "      <td>2020</td>\n",
              "      <td>6</td>\n",
              "      <td>29</td>\n",
              "      <td>Apple</td>\n",
              "    </tr>\n",
              "    <tr>\n",
              "      <th>2</th>\n",
              "      <td>EURNZD  Hit  PIPS PROFIT 🔥👍🏻⚡️For Forex signal...</td>\n",
              "      <td>0.0</td>\n",
              "      <td>0.0</td>\n",
              "      <td>Neutral</td>\n",
              "      <td>2020-06-29</td>\n",
              "      <td>90.445</td>\n",
              "      <td>130646080.0</td>\n",
              "      <td>88.3125</td>\n",
              "      <td>90.5434</td>\n",
              "      <td>87.82</td>\n",
              "      <td>2020</td>\n",
              "      <td>6</td>\n",
              "      <td>29</td>\n",
              "      <td>Apple</td>\n",
              "    </tr>\n",
              "    <tr>\n",
              "      <th>3</th>\n",
              "      <td>Apple Inc price at close  is  apple AAPL</td>\n",
              "      <td>0.0</td>\n",
              "      <td>0.0</td>\n",
              "      <td>Neutral</td>\n",
              "      <td>2020-06-29</td>\n",
              "      <td>90.445</td>\n",
              "      <td>130646080.0</td>\n",
              "      <td>88.3125</td>\n",
              "      <td>90.5434</td>\n",
              "      <td>87.82</td>\n",
              "      <td>2020</td>\n",
              "      <td>6</td>\n",
              "      <td>29</td>\n",
              "      <td>Apple</td>\n",
              "    </tr>\n",
              "    <tr>\n",
              "      <th>4</th>\n",
              "      <td>NZDCAD Target Hit  PIPS Profit 🔥Checkout the B...</td>\n",
              "      <td>0.5</td>\n",
              "      <td>0.5</td>\n",
              "      <td>Positive</td>\n",
              "      <td>2020-06-29</td>\n",
              "      <td>90.445</td>\n",
              "      <td>130646080.0</td>\n",
              "      <td>88.3125</td>\n",
              "      <td>90.5434</td>\n",
              "      <td>87.82</td>\n",
              "      <td>2020</td>\n",
              "      <td>6</td>\n",
              "      <td>29</td>\n",
              "      <td>Apple</td>\n",
              "    </tr>\n",
              "  </tbody>\n",
              "</table>\n",
              "</div>"
            ],
            "text/plain": [
              "                                                Text  Subjectivity  ...  Day    Tag\n",
              "0  GBPAUD  PIPS Profit🔥🔥For free signals Join for...           0.8  ...   29  Apple\n",
              "1  APPLE ANALYSIS  MIN                   BUY SIGN...           0.0  ...   29  Apple\n",
              "2  EURNZD  Hit  PIPS PROFIT 🔥👍🏻⚡️For Forex signal...           0.0  ...   29  Apple\n",
              "3           Apple Inc price at close  is  apple AAPL           0.0  ...   29  Apple\n",
              "4  NZDCAD Target Hit  PIPS Profit 🔥Checkout the B...           0.5  ...   29  Apple\n",
              "\n",
              "[5 rows x 14 columns]"
            ]
          },
          "metadata": {},
          "execution_count": 79
        }
      ]
    },
    {
      "cell_type": "code",
      "metadata": {
        "id": "u6GnPvyYyYMM"
      },
      "source": [
        "\n",
        "#Drop Date\n",
        "\n",
        "master_file.drop('Date', axis = 1, inplace = True)"
      ],
      "execution_count": 80,
      "outputs": []
    },
    {
      "cell_type": "code",
      "metadata": {
        "colab": {
          "base_uri": "https://localhost:8080/",
          "height": 258
        },
        "id": "wMiq2QLZyagc",
        "outputId": "e4125dac-a51c-4855-e70c-e72b9a5e18e7"
      },
      "source": [
        "master_file.head()"
      ],
      "execution_count": 81,
      "outputs": [
        {
          "output_type": "execute_result",
          "data": {
            "text/html": [
              "<div>\n",
              "<style scoped>\n",
              "    .dataframe tbody tr th:only-of-type {\n",
              "        vertical-align: middle;\n",
              "    }\n",
              "\n",
              "    .dataframe tbody tr th {\n",
              "        vertical-align: top;\n",
              "    }\n",
              "\n",
              "    .dataframe thead th {\n",
              "        text-align: right;\n",
              "    }\n",
              "</style>\n",
              "<table border=\"1\" class=\"dataframe\">\n",
              "  <thead>\n",
              "    <tr style=\"text-align: right;\">\n",
              "      <th></th>\n",
              "      <th>Text</th>\n",
              "      <th>Subjectivity</th>\n",
              "      <th>Polarity</th>\n",
              "      <th>Analysis</th>\n",
              "      <th>Close/Last</th>\n",
              "      <th>Volume</th>\n",
              "      <th>Open</th>\n",
              "      <th>High</th>\n",
              "      <th>Low</th>\n",
              "      <th>Year</th>\n",
              "      <th>Month</th>\n",
              "      <th>Day</th>\n",
              "      <th>Tag</th>\n",
              "    </tr>\n",
              "  </thead>\n",
              "  <tbody>\n",
              "    <tr>\n",
              "      <th>0</th>\n",
              "      <td>GBPAUD  PIPS Profit🔥🔥For free signals Join for...</td>\n",
              "      <td>0.8</td>\n",
              "      <td>0.4</td>\n",
              "      <td>Positive</td>\n",
              "      <td>90.445</td>\n",
              "      <td>130646080.0</td>\n",
              "      <td>88.3125</td>\n",
              "      <td>90.5434</td>\n",
              "      <td>87.82</td>\n",
              "      <td>2020</td>\n",
              "      <td>6</td>\n",
              "      <td>29</td>\n",
              "      <td>Apple</td>\n",
              "    </tr>\n",
              "    <tr>\n",
              "      <th>1</th>\n",
              "      <td>APPLE ANALYSIS  MIN                   BUY SIGN...</td>\n",
              "      <td>0.0</td>\n",
              "      <td>0.0</td>\n",
              "      <td>Neutral</td>\n",
              "      <td>90.445</td>\n",
              "      <td>130646080.0</td>\n",
              "      <td>88.3125</td>\n",
              "      <td>90.5434</td>\n",
              "      <td>87.82</td>\n",
              "      <td>2020</td>\n",
              "      <td>6</td>\n",
              "      <td>29</td>\n",
              "      <td>Apple</td>\n",
              "    </tr>\n",
              "    <tr>\n",
              "      <th>2</th>\n",
              "      <td>EURNZD  Hit  PIPS PROFIT 🔥👍🏻⚡️For Forex signal...</td>\n",
              "      <td>0.0</td>\n",
              "      <td>0.0</td>\n",
              "      <td>Neutral</td>\n",
              "      <td>90.445</td>\n",
              "      <td>130646080.0</td>\n",
              "      <td>88.3125</td>\n",
              "      <td>90.5434</td>\n",
              "      <td>87.82</td>\n",
              "      <td>2020</td>\n",
              "      <td>6</td>\n",
              "      <td>29</td>\n",
              "      <td>Apple</td>\n",
              "    </tr>\n",
              "    <tr>\n",
              "      <th>3</th>\n",
              "      <td>Apple Inc price at close  is  apple AAPL</td>\n",
              "      <td>0.0</td>\n",
              "      <td>0.0</td>\n",
              "      <td>Neutral</td>\n",
              "      <td>90.445</td>\n",
              "      <td>130646080.0</td>\n",
              "      <td>88.3125</td>\n",
              "      <td>90.5434</td>\n",
              "      <td>87.82</td>\n",
              "      <td>2020</td>\n",
              "      <td>6</td>\n",
              "      <td>29</td>\n",
              "      <td>Apple</td>\n",
              "    </tr>\n",
              "    <tr>\n",
              "      <th>4</th>\n",
              "      <td>NZDCAD Target Hit  PIPS Profit 🔥Checkout the B...</td>\n",
              "      <td>0.5</td>\n",
              "      <td>0.5</td>\n",
              "      <td>Positive</td>\n",
              "      <td>90.445</td>\n",
              "      <td>130646080.0</td>\n",
              "      <td>88.3125</td>\n",
              "      <td>90.5434</td>\n",
              "      <td>87.82</td>\n",
              "      <td>2020</td>\n",
              "      <td>6</td>\n",
              "      <td>29</td>\n",
              "      <td>Apple</td>\n",
              "    </tr>\n",
              "  </tbody>\n",
              "</table>\n",
              "</div>"
            ],
            "text/plain": [
              "                                                Text  Subjectivity  ...  Day    Tag\n",
              "0  GBPAUD  PIPS Profit🔥🔥For free signals Join for...           0.8  ...   29  Apple\n",
              "1  APPLE ANALYSIS  MIN                   BUY SIGN...           0.0  ...   29  Apple\n",
              "2  EURNZD  Hit  PIPS PROFIT 🔥👍🏻⚡️For Forex signal...           0.0  ...   29  Apple\n",
              "3           Apple Inc price at close  is  apple AAPL           0.0  ...   29  Apple\n",
              "4  NZDCAD Target Hit  PIPS Profit 🔥Checkout the B...           0.5  ...   29  Apple\n",
              "\n",
              "[5 rows x 13 columns]"
            ]
          },
          "metadata": {},
          "execution_count": 81
        }
      ]
    },
    {
      "cell_type": "code",
      "metadata": {
        "id": "QIZsG0NCyfQE"
      },
      "source": [
        "master_file.to_csv('Master_file.csv', index = False)"
      ],
      "execution_count": 82,
      "outputs": []
    },
    {
      "cell_type": "code",
      "metadata": {
        "id": "Gs8iAxYwyiIE"
      },
      "source": [
        "import matplotlib.pyplot as plt"
      ],
      "execution_count": 83,
      "outputs": []
    },
    {
      "cell_type": "code",
      "metadata": {
        "id": "9cOoy_GeyklE"
      },
      "source": [
        "analysisPlot = master_file['Analysis'].values"
      ],
      "execution_count": 84,
      "outputs": []
    },
    {
      "cell_type": "code",
      "metadata": {
        "colab": {
          "base_uri": "https://localhost:8080/",
          "height": 265
        },
        "id": "Ka2d9TivynKt",
        "outputId": "d7634ef2-143c-4736-fbbd-56f02f906153"
      },
      "source": [
        "\n",
        "plt.plot(analysisPlot)\n",
        "plt.show()"
      ],
      "execution_count": 85,
      "outputs": [
        {
          "output_type": "display_data",
          "data": {
            "image/png": "[encoded data removed]",
            "text/plain": [
              "<Figure size 432x288 with 1 Axes>"
            ]
          },
          "metadata": {
            "needs_background": "light"
          }
        }
      ]
    }
  ]
}